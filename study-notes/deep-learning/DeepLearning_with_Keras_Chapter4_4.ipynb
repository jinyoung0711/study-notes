{
  "nbformat": 4,
  "nbformat_minor": 0,
  "metadata": {
    "colab": {
      "provenance": [],
      "authorship_tag": "ABX9TyNc2VQzvQ2hBKU/mLqqt/zz",
      "include_colab_link": true
    },
    "kernelspec": {
      "name": "python3",
      "display_name": "Python 3"
    },
    "language_info": {
      "name": "python"
    }
  },
  "cells": [
    {
      "cell_type": "markdown",
      "metadata": {
        "id": "view-in-github",
        "colab_type": "text"
      },
      "source": [
        "<a href=\"https://colab.research.google.com/github/jinyoung0711/DL_study/blob/master/DeepLearning_with_Keras_Chapter4_4.ipynb\" target=\"_parent\"><img src=\"https://colab.research.google.com/assets/colab-badge.svg\" alt=\"Open In Colab\"/></a>"
      ]
    },
    {
      "cell_type": "code",
      "execution_count": null,
      "metadata": {
        "colab": {
          "base_uri": "https://localhost:8080/"
        },
        "id": "wGmdehiJ4En2",
        "outputId": "55bfd5d9-8fd0-4f44-cbff-d82929558900"
      },
      "outputs": [
        {
          "output_type": "stream",
          "name": "stdout",
          "text": [
            "Downloading data from https://storage.googleapis.com/tensorflow/tf-keras-datasets/imdb.npz\n",
            "17464789/17464789 [==============================] - 0s 0us/step\n"
          ]
        }
      ],
      "source": [
        "from keras.datasets import imdb\n",
        "import numpy as np\n",
        "\n",
        "(train_data, train_labels), (test_data, test_labels) = imdb.load_data(num_words=10000)\n",
        "\n",
        "def vectorize_sequences(sequences, dimension=10000):\n",
        "    # 크기가 (len(sequences), dimension))이고 모든 원소가 0인 행렬을 만듭니다\n",
        "    results = np.zeros((len(sequences), dimension))\n",
        "    for i, sequence in enumerate(sequences):\n",
        "        results[i, sequence] = 1.  # results[i]에서 특정 인덱스의 위치를 1로 만듭니다\n",
        "    return results\n",
        "\n",
        "# 훈련 데이터를 벡터로 변환합니다\n",
        "x_train = vectorize_sequences(train_data)\n",
        "# 테스트 데이터를 벡터로 변환합니다\n",
        "x_test = vectorize_sequences(test_data)\n",
        "# 레이블을 벡터로 변환합니다\n",
        "y_train = np.asarray(train_labels).astype('float32')\n",
        "y_test = np.asarray(test_labels).astype('float32')"
      ]
    },
    {
      "cell_type": "code",
      "source": [
        "from keras import models\n",
        "from keras import layers\n",
        "\n",
        "original_model = models.Sequential()\n",
        "original_model.add(layers.Dense(16, activation='relu', input_shape=(10000,)))\n",
        "original_model.add(layers.Dense(16, activation='relu'))\n",
        "original_model.add(layers.Dense(1, activation='sigmoid'))\n",
        "\n",
        "original_model.compile(optimizer='rmsprop',\n",
        "                       loss='binary_crossentropy',\n",
        "                       metrics=['acc'])"
      ],
      "metadata": {
        "id": "lvEu-lFU4e1h"
      },
      "execution_count": null,
      "outputs": []
    },
    {
      "cell_type": "code",
      "source": [
        "smaller_model = models.Sequential()\n",
        "smaller_model.add(layers.Dense(6, activation='relu', input_shape=(10000,)))\n",
        "smaller_model.add(layers.Dense(6, activation='relu'))\n",
        "smaller_model.add(layers.Dense(1, activation='sigmoid'))\n",
        "\n",
        "smaller_model.compile(optimizer='rmsprop',\n",
        "                      loss='binary_crossentropy',\n",
        "                      metrics=['acc'])"
      ],
      "metadata": {
        "id": "8QtGQQ1V4gvu"
      },
      "execution_count": null,
      "outputs": []
    },
    {
      "cell_type": "code",
      "source": [
        "original_hist = original_model.fit(x_train, y_train,\n",
        "                                   epochs=20,\n",
        "                                   batch_size=512,\n",
        "                                   validation_data=(x_test, y_test))"
      ],
      "metadata": {
        "colab": {
          "base_uri": "https://localhost:8080/"
        },
        "id": "7iM9IhGu4is_",
        "outputId": "6e58a051-d940-4582-cb8a-6a2689314af0"
      },
      "execution_count": null,
      "outputs": [
        {
          "output_type": "stream",
          "name": "stdout",
          "text": [
            "Epoch 1/20\n",
            "49/49 [==============================] - 6s 100ms/step - loss: 0.4583 - acc: 0.8263 - val_loss: 0.3480 - val_acc: 0.8741\n",
            "Epoch 2/20\n",
            "49/49 [==============================] - 3s 64ms/step - loss: 0.2652 - acc: 0.9076 - val_loss: 0.3027 - val_acc: 0.8791\n",
            "Epoch 3/20\n",
            "49/49 [==============================] - 2s 48ms/step - loss: 0.2046 - acc: 0.9270 - val_loss: 0.2979 - val_acc: 0.8802\n",
            "Epoch 4/20\n",
            "49/49 [==============================] - 2s 50ms/step - loss: 0.1703 - acc: 0.9399 - val_loss: 0.2961 - val_acc: 0.8831\n",
            "Epoch 5/20\n",
            "49/49 [==============================] - 3s 52ms/step - loss: 0.1456 - acc: 0.9488 - val_loss: 0.3075 - val_acc: 0.8811\n",
            "Epoch 6/20\n",
            "49/49 [==============================] - 4s 76ms/step - loss: 0.1318 - acc: 0.9542 - val_loss: 0.3256 - val_acc: 0.8780\n",
            "Epoch 7/20\n",
            "49/49 [==============================] - 3s 70ms/step - loss: 0.1140 - acc: 0.9614 - val_loss: 0.3648 - val_acc: 0.8689\n",
            "Epoch 8/20\n",
            "49/49 [==============================] - 4s 77ms/step - loss: 0.0999 - acc: 0.9664 - val_loss: 0.3821 - val_acc: 0.8678\n",
            "Epoch 9/20\n",
            "49/49 [==============================] - 4s 81ms/step - loss: 0.0881 - acc: 0.9714 - val_loss: 0.4108 - val_acc: 0.8655\n",
            "Epoch 10/20\n",
            "49/49 [==============================] - 5s 94ms/step - loss: 0.0786 - acc: 0.9752 - val_loss: 0.4447 - val_acc: 0.8622\n",
            "Epoch 11/20\n",
            "49/49 [==============================] - 3s 67ms/step - loss: 0.0702 - acc: 0.9780 - val_loss: 0.4592 - val_acc: 0.8635\n",
            "Epoch 12/20\n",
            "49/49 [==============================] - 4s 72ms/step - loss: 0.0589 - acc: 0.9822 - val_loss: 0.4954 - val_acc: 0.8600\n",
            "Epoch 13/20\n",
            "49/49 [==============================] - 4s 79ms/step - loss: 0.0531 - acc: 0.9838 - val_loss: 0.5357 - val_acc: 0.8577\n",
            "Epoch 14/20\n",
            "49/49 [==============================] - 4s 78ms/step - loss: 0.0468 - acc: 0.9862 - val_loss: 0.5590 - val_acc: 0.8571\n",
            "Epoch 15/20\n",
            "49/49 [==============================] - 3s 58ms/step - loss: 0.0389 - acc: 0.9894 - val_loss: 0.5934 - val_acc: 0.8566\n",
            "Epoch 16/20\n",
            "49/49 [==============================] - 2s 47ms/step - loss: 0.0328 - acc: 0.9909 - val_loss: 0.6434 - val_acc: 0.8531\n",
            "Epoch 17/20\n",
            "49/49 [==============================] - 4s 73ms/step - loss: 0.0262 - acc: 0.9936 - val_loss: 0.7007 - val_acc: 0.8507\n",
            "Epoch 18/20\n",
            "49/49 [==============================] - 3s 61ms/step - loss: 0.0246 - acc: 0.9933 - val_loss: 0.7209 - val_acc: 0.8509\n",
            "Epoch 19/20\n",
            "49/49 [==============================] - 3s 60ms/step - loss: 0.0199 - acc: 0.9950 - val_loss: 0.7551 - val_acc: 0.8491\n",
            "Epoch 20/20\n",
            "49/49 [==============================] - 2s 45ms/step - loss: 0.0154 - acc: 0.9967 - val_loss: 0.7961 - val_acc: 0.8496\n"
          ]
        }
      ]
    },
    {
      "cell_type": "code",
      "source": [
        "smaller_model_hist = smaller_model.fit(x_train, y_train,\n",
        "                                       epochs=20,\n",
        "                                       batch_size=512,\n",
        "                                       validation_data=(x_test, y_test))"
      ],
      "metadata": {
        "colab": {
          "base_uri": "https://localhost:8080/"
        },
        "id": "se1uI-yg4kNi",
        "outputId": "3e2a97fb-dcf8-4a70-940c-e365a4167564"
      },
      "execution_count": null,
      "outputs": [
        {
          "output_type": "stream",
          "name": "stdout",
          "text": [
            "Epoch 1/20\n",
            "49/49 [==============================] - 5s 82ms/step - loss: 0.5342 - acc: 0.7992 - val_loss: 0.4263 - val_acc: 0.8624\n",
            "Epoch 2/20\n",
            "49/49 [==============================] - 4s 81ms/step - loss: 0.3460 - acc: 0.8916 - val_loss: 0.3349 - val_acc: 0.8825\n",
            "Epoch 3/20\n",
            "49/49 [==============================] - 2s 50ms/step - loss: 0.2657 - acc: 0.9111 - val_loss: 0.2966 - val_acc: 0.8894\n",
            "Epoch 4/20\n",
            "49/49 [==============================] - 2s 40ms/step - loss: 0.2204 - acc: 0.9256 - val_loss: 0.2863 - val_acc: 0.8862\n",
            "Epoch 5/20\n",
            "49/49 [==============================] - 3s 57ms/step - loss: 0.1914 - acc: 0.9346 - val_loss: 0.2795 - val_acc: 0.8874\n",
            "Epoch 6/20\n",
            "49/49 [==============================] - 2s 47ms/step - loss: 0.1704 - acc: 0.9423 - val_loss: 0.2817 - val_acc: 0.8872\n",
            "Epoch 7/20\n",
            "49/49 [==============================] - 2s 40ms/step - loss: 0.1552 - acc: 0.9470 - val_loss: 0.2870 - val_acc: 0.8860\n",
            "Epoch 8/20\n",
            "49/49 [==============================] - 3s 53ms/step - loss: 0.1414 - acc: 0.9522 - val_loss: 0.2962 - val_acc: 0.8834\n",
            "Epoch 9/20\n",
            "49/49 [==============================] - 2s 42ms/step - loss: 0.1301 - acc: 0.9573 - val_loss: 0.3077 - val_acc: 0.8800\n",
            "Epoch 10/20\n",
            "49/49 [==============================] - 2s 49ms/step - loss: 0.1205 - acc: 0.9603 - val_loss: 0.3180 - val_acc: 0.8790\n",
            "Epoch 11/20\n",
            "49/49 [==============================] - 2s 40ms/step - loss: 0.1118 - acc: 0.9638 - val_loss: 0.3361 - val_acc: 0.8750\n",
            "Epoch 12/20\n",
            "49/49 [==============================] - 2s 47ms/step - loss: 0.1036 - acc: 0.9672 - val_loss: 0.3505 - val_acc: 0.8729\n",
            "Epoch 13/20\n",
            "49/49 [==============================] - 2s 48ms/step - loss: 0.0968 - acc: 0.9695 - val_loss: 0.3600 - val_acc: 0.8727\n",
            "Epoch 14/20\n",
            "49/49 [==============================] - 2s 39ms/step - loss: 0.0900 - acc: 0.9722 - val_loss: 0.3801 - val_acc: 0.8701\n",
            "Epoch 15/20\n",
            "49/49 [==============================] - 2s 40ms/step - loss: 0.0841 - acc: 0.9736 - val_loss: 0.4002 - val_acc: 0.8661\n",
            "Epoch 16/20\n",
            "49/49 [==============================] - 2s 40ms/step - loss: 0.0777 - acc: 0.9772 - val_loss: 0.4157 - val_acc: 0.8659\n",
            "Epoch 17/20\n",
            "49/49 [==============================] - 3s 55ms/step - loss: 0.0725 - acc: 0.9786 - val_loss: 0.4305 - val_acc: 0.8648\n",
            "Epoch 18/20\n",
            "49/49 [==============================] - 2s 47ms/step - loss: 0.0679 - acc: 0.9800 - val_loss: 0.4519 - val_acc: 0.8625\n",
            "Epoch 19/20\n",
            "49/49 [==============================] - 2s 46ms/step - loss: 0.0628 - acc: 0.9821 - val_loss: 0.4725 - val_acc: 0.8608\n",
            "Epoch 20/20\n",
            "49/49 [==============================] - 2s 51ms/step - loss: 0.0591 - acc: 0.9834 - val_loss: 0.5009 - val_acc: 0.8571\n"
          ]
        }
      ]
    },
    {
      "cell_type": "code",
      "source": [
        "epochs = range(1, 21)\n",
        "original_val_loss = original_hist.history['val_loss']\n",
        "smaller_model_val_loss = smaller_model_hist.history['val_loss']"
      ],
      "metadata": {
        "id": "EaLx8I_E4moR"
      },
      "execution_count": null,
      "outputs": []
    },
    {
      "cell_type": "code",
      "source": [
        "import matplotlib.pyplot as plt"
      ],
      "metadata": {
        "id": "mhvQnSau4n-v"
      },
      "execution_count": null,
      "outputs": []
    },
    {
      "cell_type": "code",
      "source": [
        "# ‘b+’는 파란색 덧셈 기호을 의미합니다\n",
        "plt.plot(epochs, original_val_loss, 'b+', label='Original model')\n",
        "# ‘bo’는 파란색 점을 의미합니다\n",
        "plt.plot(epochs, smaller_model_val_loss, 'bo', label='Smaller model')\n",
        "plt.xlabel('Epochs')\n",
        "plt.ylabel('Validation loss')\n",
        "plt.legend()\n",
        "\n",
        "plt.show()"
      ],
      "metadata": {
        "colab": {
          "base_uri": "https://localhost:8080/",
          "height": 279
        },
        "id": "Rj0IhiBC4p9C",
        "outputId": "2246c943-dae0-453d-abec-4fc622596a8e"
      },
      "execution_count": null,
      "outputs": [
        {
          "output_type": "display_data",
          "data": {
            "text/plain": [
              "<Figure size 432x288 with 1 Axes>"
            ],
            "image/png": "[encoded data removed]"
          },
          "metadata": {
            "needs_background": "light"
          }
        }
      ]
    },
    {
      "cell_type": "code",
      "source": [
        "bigger_model = models.Sequential()\n",
        "bigger_model.add(layers.Dense(1024, activation='relu', input_shape=(10000,)))\n",
        "bigger_model.add(layers.Dense(1024, activation='relu'))\n",
        "bigger_model.add(layers.Dense(1, activation='sigmoid'))\n",
        "\n",
        "bigger_model.compile(optimizer='rmsprop',\n",
        "                     loss='binary_crossentropy',\n",
        "                     metrics=['acc'])"
      ],
      "metadata": {
        "id": "iriaL2a34rML"
      },
      "execution_count": null,
      "outputs": []
    },
    {
      "cell_type": "code",
      "source": [
        "bigger_model_hist = bigger_model.fit(x_train, y_train,\n",
        "                                     epochs=20,\n",
        "                                     batch_size=512,\n",
        "                                     validation_data=(x_test, y_test))"
      ],
      "metadata": {
        "colab": {
          "base_uri": "https://localhost:8080/"
        },
        "id": "UC-C3WQC4tST",
        "outputId": "f7c7f340-2544-4d90-feda-14e501255ea0"
      },
      "execution_count": null,
      "outputs": [
        {
          "output_type": "stream",
          "name": "stdout",
          "text": [
            "Epoch 1/20\n",
            "49/49 [==============================] - 47s 932ms/step - loss: 0.5058 - acc: 0.7853 - val_loss: 0.2892 - val_acc: 0.8815\n",
            "Epoch 2/20\n",
            "49/49 [==============================] - 36s 733ms/step - loss: 0.2350 - acc: 0.9077 - val_loss: 0.2721 - val_acc: 0.8908\n",
            "Epoch 3/20\n",
            "49/49 [==============================] - 35s 725ms/step - loss: 0.1192 - acc: 0.9556 - val_loss: 0.5820 - val_acc: 0.8134\n",
            "Epoch 4/20\n",
            "49/49 [==============================] - 38s 778ms/step - loss: 0.0681 - acc: 0.9794 - val_loss: 0.4224 - val_acc: 0.8733\n",
            "Epoch 5/20\n",
            "49/49 [==============================] - 35s 718ms/step - loss: 0.0961 - acc: 0.9854 - val_loss: 0.3900 - val_acc: 0.8804\n",
            "Epoch 6/20\n",
            "49/49 [==============================] - 36s 732ms/step - loss: 0.0015 - acc: 0.9999 - val_loss: 0.6341 - val_acc: 0.8844\n",
            "Epoch 7/20\n",
            "49/49 [==============================] - 40s 815ms/step - loss: 1.3213e-04 - acc: 1.0000 - val_loss: 0.8197 - val_acc: 0.8817\n",
            "Epoch 8/20\n",
            "49/49 [==============================] - 38s 771ms/step - loss: 0.2263 - acc: 0.9868 - val_loss: 0.6315 - val_acc: 0.8775\n",
            "Epoch 9/20\n",
            "49/49 [==============================] - 35s 723ms/step - loss: 5.4091e-04 - acc: 1.0000 - val_loss: 0.7261 - val_acc: 0.8816\n",
            "Epoch 10/20\n",
            "49/49 [==============================] - 35s 723ms/step - loss: 1.7762e-05 - acc: 1.0000 - val_loss: 0.8174 - val_acc: 0.8835\n",
            "Epoch 11/20\n",
            "49/49 [==============================] - 35s 718ms/step - loss: 3.2258e-06 - acc: 1.0000 - val_loss: 0.9446 - val_acc: 0.8829\n",
            "Epoch 12/20\n",
            "49/49 [==============================] - 35s 719ms/step - loss: 5.4472e-07 - acc: 1.0000 - val_loss: 1.0628 - val_acc: 0.8832\n",
            "Epoch 13/20\n",
            "49/49 [==============================] - 36s 748ms/step - loss: 1.0609e-07 - acc: 1.0000 - val_loss: 1.1888 - val_acc: 0.8836\n",
            "Epoch 14/20\n",
            "49/49 [==============================] - 36s 744ms/step - loss: 2.8405e-08 - acc: 1.0000 - val_loss: 1.2694 - val_acc: 0.8837\n",
            "Epoch 15/20\n",
            "49/49 [==============================] - 35s 725ms/step - loss: 1.3341e-08 - acc: 1.0000 - val_loss: 1.3118 - val_acc: 0.8837\n",
            "Epoch 16/20\n",
            "49/49 [==============================] - 35s 722ms/step - loss: 8.6186e-09 - acc: 1.0000 - val_loss: 1.3369 - val_acc: 0.8838\n",
            "Epoch 17/20\n",
            "49/49 [==============================] - 37s 755ms/step - loss: 6.3929e-09 - acc: 1.0000 - val_loss: 1.3572 - val_acc: 0.8836\n",
            "Epoch 18/20\n",
            "49/49 [==============================] - 35s 728ms/step - loss: 5.1183e-09 - acc: 1.0000 - val_loss: 1.3718 - val_acc: 0.8835\n",
            "Epoch 19/20\n",
            "49/49 [==============================] - 35s 723ms/step - loss: 4.2793e-09 - acc: 1.0000 - val_loss: 1.3829 - val_acc: 0.8836\n",
            "Epoch 20/20\n",
            "49/49 [==============================] - 35s 721ms/step - loss: 3.6853e-09 - acc: 1.0000 - val_loss: 1.3950 - val_acc: 0.8835\n"
          ]
        }
      ]
    },
    {
      "cell_type": "code",
      "source": [
        "bigger_model_val_loss = bigger_model_hist.history['val_loss']\n",
        "\n",
        "plt.plot(epochs, original_val_loss, 'b+', label='Original model')\n",
        "plt.plot(epochs, bigger_model_val_loss, 'bo', label='Bigger model')\n",
        "plt.xlabel('Epochs')\n",
        "plt.ylabel('Validation loss')\n",
        "plt.legend()\n",
        "\n",
        "plt.show()"
      ],
      "metadata": {
        "colab": {
          "base_uri": "https://localhost:8080/",
          "height": 279
        },
        "id": "FoBqCLXs4vsr",
        "outputId": "1c36ea01-b885-4880-c5c0-2e6af913bb4d"
      },
      "execution_count": null,
      "outputs": [
        {
          "output_type": "display_data",
          "data": {
            "text/plain": [
              "<Figure size 432x288 with 1 Axes>"
            ],
            "image/png": "[encoded data removed]"
          },
          "metadata": {
            "needs_background": "light"
          }
        }
      ]
    },
    {
      "cell_type": "code",
      "source": [
        "original_train_loss = original_hist.history['loss']\n",
        "bigger_model_train_loss = bigger_model_hist.history['loss']\n",
        "\n",
        "plt.plot(epochs, original_train_loss, 'b+', label='Original model')\n",
        "plt.plot(epochs, bigger_model_train_loss, 'bo', label='Bigger model')\n",
        "plt.xlabel('Epochs')\n",
        "plt.ylabel('Training loss')\n",
        "plt.legend()\n",
        "\n",
        "plt.show()"
      ],
      "metadata": {
        "colab": {
          "base_uri": "https://localhost:8080/",
          "height": 279
        },
        "id": "CV9t8oLI4xet",
        "outputId": "c6955a3a-81b8-47e2-cfaa-8bf248d913e0"
      },
      "execution_count": null,
      "outputs": [
        {
          "output_type": "display_data",
          "data": {
            "text/plain": [
              "<Figure size 432x288 with 1 Axes>"
            ],
            "image/png": "[encoded data removed]"
          },
          "metadata": {
            "needs_background": "light"
          }
        }
      ]
    },
    {
      "cell_type": "markdown",
      "source": [
        "L1 규제 : 가중치의 절댓값에 비례하는 비용이 추가\n",
        "\n",
        "L2 규제 : 가중치의 제곱에 비례하는 비용이 추가된다. L2 규제는 신경망에서 가중치 감쇠(weight decay)라고도 부른다. "
      ],
      "metadata": {
        "id": "eJ_lLmJl9aQW"
      }
    },
    {
      "cell_type": "code",
      "source": [
        "from keras import regularizers\n",
        "\n",
        "l2_model = models.Sequential()\n",
        "l2_model.add(layers.Dense(16, kernel_regularizer=regularizers.l2(0.001),\n",
        "                          activation='relu', input_shape=(10000,)))\n",
        "l2_model.add(layers.Dense(16, kernel_regularizer=regularizers.l2(0.001),\n",
        "                          activation='relu'))\n",
        "l2_model.add(layers.Dense(1, activation='sigmoid'))"
      ],
      "metadata": {
        "id": "T0dqmU1G4zLZ"
      },
      "execution_count": null,
      "outputs": []
    },
    {
      "cell_type": "code",
      "source": [
        "l2_model.compile(optimizer='rmsprop',\n",
        "                 loss='binary_crossentropy',\n",
        "                 metrics=['acc'])"
      ],
      "metadata": {
        "id": "T3G_XIdW409Z"
      },
      "execution_count": null,
      "outputs": []
    },
    {
      "cell_type": "code",
      "source": [
        "l2_model_hist = l2_model.fit(x_train, y_train,\n",
        "                             epochs=20,\n",
        "                             batch_size=512,\n",
        "                             validation_data=(x_test, y_test))"
      ],
      "metadata": {
        "colab": {
          "base_uri": "https://localhost:8080/"
        },
        "id": "eh59ra1J42Ac",
        "outputId": "acf07292-2271-453d-faa5-29bfd4699c96"
      },
      "execution_count": null,
      "outputs": [
        {
          "output_type": "stream",
          "name": "stdout",
          "text": [
            "Epoch 1/20\n",
            "49/49 [==============================] - 5s 84ms/step - loss: 0.5005 - acc: 0.8218 - val_loss: 0.3845 - val_acc: 0.8741\n",
            "Epoch 2/20\n",
            "49/49 [==============================] - 2s 46ms/step - loss: 0.3156 - acc: 0.9024 - val_loss: 0.3351 - val_acc: 0.8880\n",
            "Epoch 3/20\n",
            "49/49 [==============================] - 3s 52ms/step - loss: 0.2706 - acc: 0.9194 - val_loss: 0.3338 - val_acc: 0.8856\n",
            "Epoch 4/20\n",
            "49/49 [==============================] - 2s 47ms/step - loss: 0.2510 - acc: 0.9263 - val_loss: 0.3356 - val_acc: 0.8842\n",
            "Epoch 5/20\n",
            "49/49 [==============================] - 2s 45ms/step - loss: 0.2376 - acc: 0.9336 - val_loss: 0.3404 - val_acc: 0.8838\n",
            "Epoch 6/20\n",
            "49/49 [==============================] - 2s 45ms/step - loss: 0.2270 - acc: 0.9387 - val_loss: 0.3573 - val_acc: 0.8789\n",
            "Epoch 7/20\n",
            "49/49 [==============================] - 2s 45ms/step - loss: 0.2211 - acc: 0.9400 - val_loss: 0.3559 - val_acc: 0.8790\n",
            "Epoch 8/20\n",
            "49/49 [==============================] - 2s 46ms/step - loss: 0.2164 - acc: 0.9400 - val_loss: 0.3611 - val_acc: 0.8787\n",
            "Epoch 9/20\n",
            "49/49 [==============================] - 3s 59ms/step - loss: 0.2109 - acc: 0.9440 - val_loss: 0.3895 - val_acc: 0.8724\n",
            "Epoch 10/20\n",
            "49/49 [==============================] - 2s 45ms/step - loss: 0.2070 - acc: 0.9442 - val_loss: 0.3969 - val_acc: 0.8689\n",
            "Epoch 11/20\n",
            "49/49 [==============================] - 2s 45ms/step - loss: 0.2026 - acc: 0.9474 - val_loss: 0.3829 - val_acc: 0.8748\n",
            "Epoch 12/20\n",
            "49/49 [==============================] - 2s 45ms/step - loss: 0.2010 - acc: 0.9479 - val_loss: 0.3850 - val_acc: 0.8733\n",
            "Epoch 13/20\n",
            "49/49 [==============================] - 2s 45ms/step - loss: 0.1950 - acc: 0.9508 - val_loss: 0.4375 - val_acc: 0.8598\n",
            "Epoch 14/20\n",
            "49/49 [==============================] - 2s 46ms/step - loss: 0.1948 - acc: 0.9491 - val_loss: 0.4048 - val_acc: 0.8702\n",
            "Epoch 15/20\n",
            "49/49 [==============================] - 3s 52ms/step - loss: 0.1913 - acc: 0.9513 - val_loss: 0.4338 - val_acc: 0.8643\n",
            "Epoch 16/20\n",
            "49/49 [==============================] - 3s 58ms/step - loss: 0.1908 - acc: 0.9517 - val_loss: 0.4067 - val_acc: 0.8707\n",
            "Epoch 17/20\n",
            "49/49 [==============================] - 2s 45ms/step - loss: 0.1862 - acc: 0.9510 - val_loss: 0.4167 - val_acc: 0.8684\n",
            "Epoch 18/20\n",
            "49/49 [==============================] - 2s 46ms/step - loss: 0.1881 - acc: 0.9510 - val_loss: 0.4267 - val_acc: 0.8657\n",
            "Epoch 19/20\n",
            "49/49 [==============================] - 2s 45ms/step - loss: 0.1846 - acc: 0.9522 - val_loss: 0.4222 - val_acc: 0.8672\n",
            "Epoch 20/20\n",
            "49/49 [==============================] - 2s 45ms/step - loss: 0.1822 - acc: 0.9543 - val_loss: 0.4243 - val_acc: 0.8674\n"
          ]
        }
      ]
    },
    {
      "cell_type": "code",
      "source": [
        "l2_model_val_loss = l2_model_hist.history['val_loss']\n",
        "\n",
        "plt.plot(epochs, original_val_loss, 'b+', label='Original model')\n",
        "plt.plot(epochs, l2_model_val_loss, 'bo', label='L2-regularized model')\n",
        "plt.xlabel('Epochs')\n",
        "plt.ylabel('Validation loss')\n",
        "plt.legend()\n",
        "\n",
        "plt.show()"
      ],
      "metadata": {
        "colab": {
          "base_uri": "https://localhost:8080/",
          "height": 279
        },
        "id": "dCeTFsM_43Bl",
        "outputId": "78e4816b-5118-4c19-b6a0-ce47d3352d3e"
      },
      "execution_count": null,
      "outputs": [
        {
          "output_type": "display_data",
          "data": {
            "text/plain": [
              "<Figure size 432x288 with 1 Axes>"
            ],
            "image/png": "[encoded data removed]"
          },
          "metadata": {
            "needs_background": "light"
          }
        }
      ]
    },
    {
      "cell_type": "markdown",
      "source": [
        "L2 규제를 사용한 모델이 기본 모델보다 과대적합에 더 잘 견디고 있다.\n",
        "\n",
        "케라스에서 L2 규제 대신 다음과 같은 가중치 규제 중 하나 사용 가능\n",
        "\n",
        "\n",
        "\n",
        "```\n",
        "from keras import regularizers\n",
        "\n",
        "regularizers.l1(0.001) # L1 규제\n",
        "\n",
        "regularizers.l1_l2(l1=0.001, l2=0.001) # L1 L2 규제 병행\n",
        " ```\n",
        "\n"
      ],
      "metadata": {
        "id": "F0c3xIIS-Bf2"
      }
    },
    {
      "cell_type": "code",
      "source": [
        "l1_model = models.Sequential()\n",
        "l1_model.add(layers.Dense(16, kernel_regularizer=regularizers.l1(0.0001),\n",
        "                          activation='relu', input_shape=(10000,)))\n",
        "l1_model.add(layers.Dense(16, kernel_regularizer=regularizers.l1(0.0001),\n",
        "                          activation='relu'))\n",
        "l1_model.add(layers.Dense(1, activation='sigmoid'))"
      ],
      "metadata": {
        "id": "TGmFhmFY44PY"
      },
      "execution_count": null,
      "outputs": []
    },
    {
      "cell_type": "code",
      "source": [
        "l1_model.compile(optimizer='rmsprop',\n",
        "                 loss='binary_crossentropy',\n",
        "                 metrics=['acc'])"
      ],
      "metadata": {
        "id": "CkxlnWdm46QQ"
      },
      "execution_count": null,
      "outputs": []
    },
    {
      "cell_type": "code",
      "source": [
        "l1_model_hist = l1_model.fit(x_train, y_train,\n",
        "                             epochs=20,\n",
        "                             batch_size=512,\n",
        "                             validation_data=(x_test, y_test))"
      ],
      "metadata": {
        "colab": {
          "base_uri": "https://localhost:8080/"
        },
        "id": "qRe4VDkF47oF",
        "outputId": "08d9bf10-bd89-4e0b-aa9e-ce817f74dca9"
      },
      "execution_count": null,
      "outputs": [
        {
          "output_type": "stream",
          "name": "stdout",
          "text": [
            "Epoch 1/20\n",
            "49/49 [==============================] - 4s 59ms/step - loss: 0.5620 - acc: 0.8082 - val_loss: 0.4253 - val_acc: 0.8798\n",
            "Epoch 2/20\n",
            "49/49 [==============================] - 2s 46ms/step - loss: 0.3700 - acc: 0.8937 - val_loss: 0.3910 - val_acc: 0.8758\n",
            "Epoch 3/20\n",
            "49/49 [==============================] - 4s 85ms/step - loss: 0.3318 - acc: 0.9042 - val_loss: 0.3566 - val_acc: 0.8888\n",
            "Epoch 4/20\n",
            "49/49 [==============================] - 5s 92ms/step - loss: 0.3096 - acc: 0.9140 - val_loss: 0.3550 - val_acc: 0.8885\n",
            "Epoch 5/20\n",
            "49/49 [==============================] - 2s 46ms/step - loss: 0.2974 - acc: 0.9178 - val_loss: 0.3642 - val_acc: 0.8850\n",
            "Epoch 6/20\n",
            "49/49 [==============================] - 2s 47ms/step - loss: 0.2888 - acc: 0.9230 - val_loss: 0.3645 - val_acc: 0.8835\n",
            "Epoch 7/20\n",
            "49/49 [==============================] - 2s 46ms/step - loss: 0.2836 - acc: 0.9216 - val_loss: 0.3624 - val_acc: 0.8866\n",
            "Epoch 8/20\n",
            "49/49 [==============================] - 2s 46ms/step - loss: 0.2732 - acc: 0.9277 - val_loss: 0.3779 - val_acc: 0.8798\n",
            "Epoch 9/20\n",
            "49/49 [==============================] - 2s 47ms/step - loss: 0.2700 - acc: 0.9292 - val_loss: 0.3684 - val_acc: 0.8842\n",
            "Epoch 10/20\n",
            "49/49 [==============================] - 2s 46ms/step - loss: 0.2615 - acc: 0.9336 - val_loss: 0.3718 - val_acc: 0.8827\n",
            "Epoch 11/20\n",
            "49/49 [==============================] - 2s 46ms/step - loss: 0.2604 - acc: 0.9330 - val_loss: 0.3850 - val_acc: 0.8764\n",
            "Epoch 12/20\n",
            "49/49 [==============================] - 2s 46ms/step - loss: 0.2537 - acc: 0.9352 - val_loss: 0.3816 - val_acc: 0.8786\n",
            "Epoch 13/20\n",
            "49/49 [==============================] - 2s 47ms/step - loss: 0.2497 - acc: 0.9367 - val_loss: 0.4030 - val_acc: 0.8746\n",
            "Epoch 14/20\n",
            "49/49 [==============================] - 2s 46ms/step - loss: 0.2416 - acc: 0.9418 - val_loss: 0.3972 - val_acc: 0.8772\n",
            "Epoch 15/20\n",
            "49/49 [==============================] - 3s 59ms/step - loss: 0.2366 - acc: 0.9434 - val_loss: 0.3873 - val_acc: 0.8808\n",
            "Epoch 16/20\n",
            "49/49 [==============================] - 2s 46ms/step - loss: 0.2308 - acc: 0.9451 - val_loss: 0.4238 - val_acc: 0.8702\n",
            "Epoch 17/20\n",
            "49/49 [==============================] - 2s 47ms/step - loss: 0.2269 - acc: 0.9477 - val_loss: 0.4221 - val_acc: 0.8707\n",
            "Epoch 18/20\n",
            "49/49 [==============================] - 2s 47ms/step - loss: 0.2181 - acc: 0.9512 - val_loss: 0.4013 - val_acc: 0.8764\n",
            "Epoch 19/20\n",
            "49/49 [==============================] - 2s 47ms/step - loss: 0.2166 - acc: 0.9525 - val_loss: 0.4116 - val_acc: 0.8718\n",
            "Epoch 20/20\n",
            "49/49 [==============================] - 2s 46ms/step - loss: 0.2075 - acc: 0.9554 - val_loss: 0.4082 - val_acc: 0.8749\n"
          ]
        }
      ]
    },
    {
      "cell_type": "code",
      "source": [
        "l1_model_val_loss = l1_model_hist.history['val_loss']\n",
        "\n",
        "plt.plot(epochs, original_val_loss, 'b+', label='Original model')\n",
        "plt.plot(epochs, l1_model_val_loss, 'bo', label='L1-regularized model')\n",
        "plt.xlabel('Epochs')\n",
        "plt.ylabel('Validation loss')\n",
        "plt.legend()\n",
        "\n",
        "plt.show()"
      ],
      "metadata": {
        "colab": {
          "base_uri": "https://localhost:8080/",
          "height": 279
        },
        "id": "zKvKmgSp4-Co",
        "outputId": "7f84a00f-9909-4705-b373-89952d5c16d8"
      },
      "execution_count": null,
      "outputs": [
        {
          "output_type": "display_data",
          "data": {
            "text/plain": [
              "<Figure size 432x288 with 1 Axes>"
            ],
            "image/png": "[encoded data removed]"
          },
          "metadata": {
            "needs_background": "light"
          }
        }
      ]
    },
    {
      "cell_type": "code",
      "source": [
        "l1l2_model = models.Sequential()\n",
        "l1l2_model.add(layers.Dense(16, kernel_regularizer=regularizers.l1_l2(l1=0.0001, l2=0.0001),\n",
        "                            activation='relu', input_shape=(10000,)))\n",
        "l1l2_model.add(layers.Dense(16, kernel_regularizer=regularizers.l1_l2(l1=0.0001, l2=0.0001),\n",
        "                            activation='relu'))\n",
        "l1l2_model.add(layers.Dense(1, activation='sigmoid'))"
      ],
      "metadata": {
        "id": "DogdMFE44_mN"
      },
      "execution_count": null,
      "outputs": []
    },
    {
      "cell_type": "code",
      "source": [
        "l1l2_model.compile(optimizer='rmsprop',\n",
        "                   loss='binary_crossentropy',\n",
        "                   metrics=['acc'])"
      ],
      "metadata": {
        "id": "CpMeN-k85CVf"
      },
      "execution_count": null,
      "outputs": []
    },
    {
      "cell_type": "code",
      "source": [
        "l1l2_model_hist = l1l2_model.fit(x_train, y_train,\n",
        "                                 epochs=20,\n",
        "                                 batch_size=512,\n",
        "                                 validation_data=(x_test, y_test))"
      ],
      "metadata": {
        "colab": {
          "base_uri": "https://localhost:8080/"
        },
        "id": "0eSrt3BC5DaW",
        "outputId": "046a5933-7e53-4d97-a572-46052b06ea5d"
      },
      "execution_count": null,
      "outputs": [
        {
          "output_type": "stream",
          "name": "stdout",
          "text": [
            "Epoch 1/20\n",
            "49/49 [==============================] - 4s 59ms/step - loss: 0.5638 - acc: 0.8132 - val_loss: 0.4313 - val_acc: 0.8785\n",
            "Epoch 2/20\n",
            "49/49 [==============================] - 2s 47ms/step - loss: 0.3789 - acc: 0.8924 - val_loss: 0.3784 - val_acc: 0.8839\n",
            "Epoch 3/20\n",
            "49/49 [==============================] - 2s 47ms/step - loss: 0.3341 - acc: 0.9050 - val_loss: 0.3615 - val_acc: 0.8879\n",
            "Epoch 4/20\n",
            "49/49 [==============================] - 2s 47ms/step - loss: 0.3154 - acc: 0.9114 - val_loss: 0.3585 - val_acc: 0.8876\n",
            "Epoch 5/20\n",
            "49/49 [==============================] - 2s 48ms/step - loss: 0.3048 - acc: 0.9154 - val_loss: 0.3864 - val_acc: 0.8747\n",
            "Epoch 6/20\n",
            "49/49 [==============================] - 2s 47ms/step - loss: 0.2969 - acc: 0.9176 - val_loss: 0.3669 - val_acc: 0.8833\n",
            "Epoch 7/20\n",
            "49/49 [==============================] - 2s 47ms/step - loss: 0.2916 - acc: 0.9220 - val_loss: 0.3663 - val_acc: 0.8856\n",
            "Epoch 8/20\n",
            "49/49 [==============================] - 2s 47ms/step - loss: 0.2838 - acc: 0.9236 - val_loss: 0.3902 - val_acc: 0.8766\n",
            "Epoch 9/20\n",
            "49/49 [==============================] - 2s 48ms/step - loss: 0.2802 - acc: 0.9259 - val_loss: 0.3717 - val_acc: 0.8852\n",
            "Epoch 10/20\n",
            "49/49 [==============================] - 2s 47ms/step - loss: 0.2714 - acc: 0.9302 - val_loss: 0.3746 - val_acc: 0.8832\n",
            "Epoch 11/20\n",
            "49/49 [==============================] - 2s 48ms/step - loss: 0.2686 - acc: 0.9300 - val_loss: 0.3873 - val_acc: 0.8806\n",
            "Epoch 12/20\n",
            "49/49 [==============================] - 2s 47ms/step - loss: 0.2613 - acc: 0.9327 - val_loss: 0.3814 - val_acc: 0.8802\n",
            "Epoch 13/20\n",
            "49/49 [==============================] - 2s 47ms/step - loss: 0.2600 - acc: 0.9333 - val_loss: 0.3861 - val_acc: 0.8789\n",
            "Epoch 14/20\n",
            "49/49 [==============================] - 2s 47ms/step - loss: 0.2541 - acc: 0.9364 - val_loss: 0.4054 - val_acc: 0.8757\n",
            "Epoch 15/20\n",
            "49/49 [==============================] - 2s 48ms/step - loss: 0.2477 - acc: 0.9384 - val_loss: 0.3939 - val_acc: 0.8773\n",
            "Epoch 16/20\n",
            "49/49 [==============================] - 2s 47ms/step - loss: 0.2436 - acc: 0.9387 - val_loss: 0.4043 - val_acc: 0.8722\n",
            "Epoch 17/20\n",
            "49/49 [==============================] - 2s 47ms/step - loss: 0.2377 - acc: 0.9426 - val_loss: 0.4121 - val_acc: 0.8749\n",
            "Epoch 18/20\n",
            "49/49 [==============================] - 2s 48ms/step - loss: 0.2334 - acc: 0.9437 - val_loss: 0.4120 - val_acc: 0.8741\n",
            "Epoch 19/20\n",
            "49/49 [==============================] - 2s 47ms/step - loss: 0.2338 - acc: 0.9428 - val_loss: 0.4102 - val_acc: 0.8749\n",
            "Epoch 20/20\n",
            "49/49 [==============================] - 2s 46ms/step - loss: 0.2273 - acc: 0.9449 - val_loss: 0.4420 - val_acc: 0.8702\n"
          ]
        }
      ]
    },
    {
      "cell_type": "code",
      "source": [
        "l1l2_model_val_loss = l1l2_model_hist.history['val_loss']\n",
        "\n",
        "plt.plot(epochs, original_val_loss, 'b+', label='Original model')\n",
        "plt.plot(epochs, l1l2_model_val_loss, 'bo', label='L1,L2-regularized model')\n",
        "plt.xlabel('Epochs')\n",
        "plt.ylabel('Validation loss')\n",
        "plt.legend()\n",
        "\n",
        "plt.show()"
      ],
      "metadata": {
        "colab": {
          "base_uri": "https://localhost:8080/",
          "height": 279
        },
        "id": "NFUjoTcO5Egl",
        "outputId": "0265dc3c-a999-4a27-ecbd-e47d1f62bb8e"
      },
      "execution_count": null,
      "outputs": [
        {
          "output_type": "display_data",
          "data": {
            "text/plain": [
              "<Figure size 432x288 with 1 Axes>"
            ],
            "image/png": "[encoded data removed]"
          },
          "metadata": {
            "needs_background": "light"
          }
        }
      ]
    },
    {
      "cell_type": "code",
      "source": [
        "dpt_model = models.Sequential()\n",
        "dpt_model.add(layers.Dense(16, activation='relu', input_shape=(10000,)))\n",
        "dpt_model.add(layers.Dropout(0.5))\n",
        "dpt_model.add(layers.Dense(16, activation='relu'))\n",
        "dpt_model.add(layers.Dropout(0.5))\n",
        "dpt_model.add(layers.Dense(1, activation='sigmoid'))\n",
        "\n",
        "dpt_model.compile(optimizer='rmsprop',\n",
        "                  loss='binary_crossentropy',\n",
        "                  metrics=['acc'])"
      ],
      "metadata": {
        "id": "08fLV63a5F0E"
      },
      "execution_count": null,
      "outputs": []
    },
    {
      "cell_type": "code",
      "source": [
        "dpt_model_hist = dpt_model.fit(x_train, y_train,\n",
        "                               epochs=20,\n",
        "                               batch_size=512,\n",
        "                               validation_data=(x_test, y_test))"
      ],
      "metadata": {
        "colab": {
          "base_uri": "https://localhost:8080/"
        },
        "id": "iIUpIXYl5HDM",
        "outputId": "971ad316-1132-44e6-d096-e8165e8e4365"
      },
      "execution_count": null,
      "outputs": [
        {
          "output_type": "stream",
          "name": "stdout",
          "text": [
            "Epoch 1/20\n",
            "49/49 [==============================] - 5s 80ms/step - loss: 0.5893 - acc: 0.6802 - val_loss: 0.4441 - val_acc: 0.8599\n",
            "Epoch 2/20\n",
            "49/49 [==============================] - 2s 47ms/step - loss: 0.4442 - acc: 0.8166 - val_loss: 0.3409 - val_acc: 0.8844\n",
            "Epoch 3/20\n",
            "49/49 [==============================] - 2s 46ms/step - loss: 0.3582 - acc: 0.8715 - val_loss: 0.2962 - val_acc: 0.8888\n",
            "Epoch 4/20\n",
            "49/49 [==============================] - 2s 46ms/step - loss: 0.3028 - acc: 0.8983 - val_loss: 0.2782 - val_acc: 0.8915\n",
            "Epoch 5/20\n",
            "49/49 [==============================] - 2s 46ms/step - loss: 0.2597 - acc: 0.9155 - val_loss: 0.2781 - val_acc: 0.8908\n",
            "Epoch 6/20\n",
            "49/49 [==============================] - 2s 46ms/step - loss: 0.2306 - acc: 0.9257 - val_loss: 0.2922 - val_acc: 0.8868\n",
            "Epoch 7/20\n",
            "49/49 [==============================] - 2s 46ms/step - loss: 0.2006 - acc: 0.9374 - val_loss: 0.3031 - val_acc: 0.8872\n",
            "Epoch 8/20\n",
            "49/49 [==============================] - 2s 46ms/step - loss: 0.1859 - acc: 0.9402 - val_loss: 0.3113 - val_acc: 0.8851\n",
            "Epoch 9/20\n",
            "49/49 [==============================] - 3s 67ms/step - loss: 0.1715 - acc: 0.9436 - val_loss: 0.3364 - val_acc: 0.8846\n",
            "Epoch 10/20\n",
            "49/49 [==============================] - 2s 46ms/step - loss: 0.1545 - acc: 0.9506 - val_loss: 0.3782 - val_acc: 0.8801\n",
            "Epoch 11/20\n",
            "49/49 [==============================] - 2s 47ms/step - loss: 0.1443 - acc: 0.9522 - val_loss: 0.3967 - val_acc: 0.8812\n",
            "Epoch 12/20\n",
            "49/49 [==============================] - 2s 45ms/step - loss: 0.1354 - acc: 0.9560 - val_loss: 0.4213 - val_acc: 0.8795\n",
            "Epoch 13/20\n",
            "49/49 [==============================] - 2s 46ms/step - loss: 0.1275 - acc: 0.9604 - val_loss: 0.4319 - val_acc: 0.8769\n",
            "Epoch 14/20\n",
            "49/49 [==============================] - 2s 46ms/step - loss: 0.1215 - acc: 0.9613 - val_loss: 0.4634 - val_acc: 0.8780\n",
            "Epoch 15/20\n",
            "49/49 [==============================] - 2s 46ms/step - loss: 0.1134 - acc: 0.9619 - val_loss: 0.5079 - val_acc: 0.8772\n",
            "Epoch 16/20\n",
            "49/49 [==============================] - 2s 46ms/step - loss: 0.1128 - acc: 0.9638 - val_loss: 0.5182 - val_acc: 0.8772\n",
            "Epoch 17/20\n",
            "49/49 [==============================] - 2s 45ms/step - loss: 0.1150 - acc: 0.9640 - val_loss: 0.5131 - val_acc: 0.8734\n",
            "Epoch 18/20\n",
            "49/49 [==============================] - 2s 46ms/step - loss: 0.1051 - acc: 0.9667 - val_loss: 0.5719 - val_acc: 0.8714\n",
            "Epoch 19/20\n",
            "49/49 [==============================] - 2s 45ms/step - loss: 0.1053 - acc: 0.9683 - val_loss: 0.6210 - val_acc: 0.8694\n",
            "Epoch 20/20\n",
            "49/49 [==============================] - 2s 46ms/step - loss: 0.1013 - acc: 0.9689 - val_loss: 0.5754 - val_acc: 0.8711\n"
          ]
        }
      ]
    },
    {
      "cell_type": "code",
      "source": [
        "dpt_model_val_loss = dpt_model_hist.history['val_loss']\n",
        "\n",
        "plt.plot(epochs, original_val_loss, 'b+', label='Original model')\n",
        "plt.plot(epochs, dpt_model_val_loss, 'bo', label='Dropout-regularized model')\n",
        "plt.xlabel('Epochs')\n",
        "plt.ylabel('Validation loss')\n",
        "plt.legend()\n",
        "\n",
        "plt.show()"
      ],
      "metadata": {
        "colab": {
          "base_uri": "https://localhost:8080/",
          "height": 279
        },
        "id": "SAVccc2-5ILJ",
        "outputId": "09d226c9-785e-4044-e4f2-811105781c80"
      },
      "execution_count": null,
      "outputs": [
        {
          "output_type": "display_data",
          "data": {
            "text/plain": [
              "<Figure size 432x288 with 1 Axes>"
            ],
            "image/png": "[encoded data removed]"
          },
          "metadata": {
            "needs_background": "light"
          }
        }
      ]
    },
    {
      "cell_type": "markdown",
      "source": [
        "### 신경망에서 과대적합을 방지하기 위해 널리 사용하는 방법\n",
        "\n",
        "1. 훈련 데이터를 더 모은다.\n",
        "\n",
        "2. 네트워크의 용량을 감소시킨다.\n",
        "\n",
        "3. 가중치 규제를 추가한다.\n",
        "\n",
        "4. 드롭아웃을 추가한다."
      ],
      "metadata": {
        "id": "FEmoBheg_l2b"
      }
    }
  ]
}