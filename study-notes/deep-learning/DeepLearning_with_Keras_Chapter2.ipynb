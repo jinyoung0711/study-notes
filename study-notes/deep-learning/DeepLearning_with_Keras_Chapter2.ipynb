{
  "nbformat": 4,
  "nbformat_minor": 0,
  "metadata": {
    "colab": {
      "provenance": [],
      "authorship_tag": "ABX9TyN3BAl9YMJbVoFLE7dA3idf",
      "include_colab_link": true
    },
    "kernelspec": {
      "name": "python3",
      "display_name": "Python 3"
    },
    "language_info": {
      "name": "python"
    }
  },
  "cells": [
    {
      "cell_type": "markdown",
      "metadata": {
        "id": "view-in-github",
        "colab_type": "text"
      },
      "source": [
        "<a href=\"https://colab.research.google.com/github/jinyoung0711/DL_study/blob/master/DeepLearning_with_Keras_Chapter2.ipynb\" target=\"_parent\"><img src=\"https://colab.research.google.com/assets/colab-badge.svg\" alt=\"Open In Colab\"/></a>"
      ]
    },
    {
      "cell_type": "code",
      "execution_count": 31,
      "metadata": {
        "id": "v5-5GtUX-Gm4"
      },
      "outputs": [],
      "source": [
        "from keras.datasets import mnist\n",
        "(train_images, train_labels), (test_images, test_labels) = mnist.load_data()"
      ]
    },
    {
      "cell_type": "code",
      "source": [
        "from keras import models \n",
        "from keras import layers\n",
        "\n",
        "network = models.Sequential()\n",
        "network.add(layers.Dense(512, activation = 'relu', input_shape = (28 * 28, )))\n",
        "network.add(layers.Dense(10, activation = 'softmax'))"
      ],
      "metadata": {
        "id": "panTU9yZHB21"
      },
      "execution_count": 32,
      "outputs": []
    },
    {
      "cell_type": "markdown",
      "source": [
        "신경망이 훈련 준비를 마치기 위해서 컴파일 단계에 포함될 세 가지\n",
        "1. 손실 함수(loss function) : 훈련 데이터에서 신경망의 성능을 측정하는 방법으로 네트워크각 옳은 방향으로 학습될 수 있도록 도와준다.\n",
        "2. 옵티마이저(optimizer) : 입력된 데이터에서 손실 함수를 기반으로 네트워크를 업데이트하는 메커니즘.\n",
        "3. 훈련과 테스트 과정을 모니터링할 지표 : 여기에서는 정확도를 의미."
      ],
      "metadata": {
        "id": "pYdGlU3vHt2s"
      }
    },
    {
      "cell_type": "code",
      "source": [
        "network.compile(optimizer = 'rmsprop',\n",
        "                loss = 'categorical_crossentropy',\n",
        "                metrics = ['accuracy'])"
      ],
      "metadata": {
        "id": "ZEnFwT57GvSk"
      },
      "execution_count": 33,
      "outputs": []
    },
    {
      "cell_type": "markdown",
      "source": [
        "categorical_crossentropy : loss function으로 가중치 텐서를 학습하기 위한 피드백 신호로 사용되며 훈련하는 동안 최소화\n",
        "\n",
        "미니 배치 확률적 경사 하강법을 통해 loss 감소.\n",
        "\n",
        "경사하강법을 적용하는 구체적인 방식은 첫 번째 매개변수로 전달된 rmsprop optimizer에 의해 결정"
      ],
      "metadata": {
        "id": "PuikyT2YPfKA"
      }
    },
    {
      "cell_type": "code",
      "source": [
        "train_images = train_images.reshape((60000, 28 * 28))\n",
        "train_images = train_images.astype('float32') / 255 # 정규화\n",
        "\n",
        "test_images = test_images.reshape((10000, 28 * 28))\n",
        "test_images = test_images.astype('float32') / 255 # 정규화\n"
      ],
      "metadata": {
        "id": "OexWZZP0G6-E"
      },
      "execution_count": 34,
      "outputs": []
    },
    {
      "cell_type": "markdown",
      "source": [
        "입력 이미지의 데이터 타입은 float32\n",
        "\n",
        "훈련 데이터는 (60000, 784)\n",
        "\n",
        "테스트 데이터는 (10000, 784)"
      ],
      "metadata": {
        "id": "Myc6_Xv6N6hp"
      }
    },
    {
      "cell_type": "code",
      "source": [
        "from keras.utils import to_categorical\n",
        "\n",
        "train_labels = to_categorical(train_labels)\n",
        "test_labels = to_categorical(test_labels)"
      ],
      "metadata": {
        "id": "3Li53Wz7G7Ez"
      },
      "execution_count": 35,
      "outputs": []
    },
    {
      "cell_type": "code",
      "source": [
        "network.fit(train_images, train_labels, epochs = 5, batch_size = 128)"
      ],
      "metadata": {
        "colab": {
          "base_uri": "https://localhost:8080/"
        },
        "id": "GN3MhYH7JL1a",
        "outputId": "c8a8c2cf-5401-4403-e182-a12fdc10ede8"
      },
      "execution_count": 36,
      "outputs": [
        {
          "output_type": "stream",
          "name": "stdout",
          "text": [
            "Epoch 1/5\n",
            "469/469 [==============================] - 6s 12ms/step - loss: 0.2561 - accuracy: 0.9250\n",
            "Epoch 2/5\n",
            "469/469 [==============================] - 6s 12ms/step - loss: 0.1041 - accuracy: 0.9696\n",
            "Epoch 3/5\n",
            "469/469 [==============================] - 5s 11ms/step - loss: 0.0685 - accuracy: 0.9788\n",
            "Epoch 4/5\n",
            "469/469 [==============================] - 5s 12ms/step - loss: 0.0501 - accuracy: 0.9846\n",
            "Epoch 5/5\n",
            "469/469 [==============================] - 5s 11ms/step - loss: 0.0378 - accuracy: 0.9885\n"
          ]
        },
        {
          "output_type": "execute_result",
          "data": {
            "text/plain": [
              "<keras.callbacks.History at 0x7f9fa59b9820>"
            ]
          },
          "metadata": {},
          "execution_count": 36
        }
      ]
    },
    {
      "cell_type": "code",
      "source": [
        "test_loss, test_acc = network.evaluate(test_images, test_labels)"
      ],
      "metadata": {
        "colab": {
          "base_uri": "https://localhost:8080/"
        },
        "id": "zDGd--fXJp7P",
        "outputId": "7d3bf898-9769-4796-fa36-8df59578fcfd"
      },
      "execution_count": 37,
      "outputs": [
        {
          "output_type": "stream",
          "name": "stdout",
          "text": [
            "313/313 [==============================] - 1s 3ms/step - loss: 0.0682 - accuracy: 0.9792\n"
          ]
        }
      ]
    },
    {
      "cell_type": "code",
      "source": [
        "print('test_acc :', test_acc)"
      ],
      "metadata": {
        "colab": {
          "base_uri": "https://localhost:8080/"
        },
        "id": "N9DDYBl1OzR_",
        "outputId": "8b4edcbf-3ecb-4476-f753-e5f702b91a6b"
      },
      "execution_count": 38,
      "outputs": [
        {
          "output_type": "stream",
          "name": "stdout",
          "text": [
            "test_acc : 0.979200005531311\n"
          ]
        }
      ]
    },
    {
      "cell_type": "markdown",
      "source": [
        "텐서의 실제 사례\n",
        "\n",
        "벡터 데이터 : (samples, features) 크기의 2D 텐서\n",
        "\n",
        "시계열 데이터 또는 시퀀스 데이터 : (samples, timesteps, features) 크기의 3D 텐서\n",
        "\n",
        "이미지 : (samples, height, width, channels) 또는 (samples, channel\n",
        "s, height, width) 크기의 4D 텐서\n",
        "\n",
        "동영상 : (samples, frames, height, width, channels) 또는 (samples, frames, channels, height, width) 크기의 5D 텐서\n"
      ],
      "metadata": {
        "id": "6IzzlxJVLect"
      }
    }
  ]
}