{
  "nbformat": 4,
  "nbformat_minor": 0,
  "metadata": {
    "colab": {
      "provenance": [],
      "toc_visible": true,
      "authorship_tag": "ABX9TyOltFZqE2se3GdJpR2Si90I",
      "include_colab_link": true
    },
    "kernelspec": {
      "name": "python3",
      "display_name": "Python 3"
    },
    "language_info": {
      "name": "python"
    },
    "gpuClass": "standard"
  },
  "cells": [
    {
      "cell_type": "markdown",
      "metadata": {
        "id": "view-in-github",
        "colab_type": "text"
      },
      "source": [
        "<a href=\"https://colab.research.google.com/github/jinyoung0711/DL_study/blob/master/DeepLearning_with_Keras_Chapter3.ipynb\" target=\"_parent\"><img src=\"https://colab.research.google.com/assets/colab-badge.svg\" alt=\"Open In Colab\"/></a>"
      ]
    },
    {
      "cell_type": "markdown",
      "source": [
        "# 3.4 IMDB 데이터셋을 이용한 이진 분류 예제\n",
        "\n",
        "\n"
      ],
      "metadata": {
        "id": "VIHA62tIVafn"
      }
    },
    {
      "cell_type": "code",
      "execution_count": null,
      "metadata": {
        "id": "_5-RZ8XZSgNN"
      },
      "outputs": [],
      "source": [
        "from keras.datasets import imdb\n",
        "\n",
        "(train_data, train_labels), (test_data, test_labels) = imdb.load_data(num_words=10000)"
      ]
    },
    {
      "cell_type": "markdown",
      "source": [
        "train_data와 test_data는 리뷰의 목록.\n",
        "\n",
        "각 리뷰는 단어 인덱스의 리스트.\n",
        "\n",
        "train_labels와 test_labels는 부정을 나타내는 0과 긍정을 나타내는 1의 리스트."
      ],
      "metadata": {
        "id": "8vrOlSB-WQFW"
      }
    },
    {
      "cell_type": "code",
      "source": [
        "import numpy as np\n",
        "\n",
        "def vectorize_sequences(sequences, dimension=10000):\n",
        "    # 크기가 (len(sequences), dimension))이고 모든 원소가 0인 행렬을 만듭니다\n",
        "    results = np.zeros((len(sequences), dimension))\n",
        "    for i, sequence in enumerate(sequences):\n",
        "        results[i, sequence] = 1.  # results[i]에서 특정 인덱스의 위치를 1로 만듭니다\n",
        "    return results\n",
        "\n",
        "# 훈련 데이터를 벡터로 변환합니다\n",
        "x_train = vectorize_sequences(train_data)\n",
        "# 테스트 데이터를 벡터로 변환합니다\n",
        "x_test = vectorize_sequences(test_data)"
      ],
      "metadata": {
        "id": "b-nxo_VsWAuh"
      },
      "execution_count": null,
      "outputs": []
    },
    {
      "cell_type": "code",
      "source": [
        "# 레이블을 벡터로 바꿉니다\n",
        "y_train = np.asarray(train_labels).astype('float32')\n",
        "y_test = np.asarray(test_labels).astype('float32')"
      ],
      "metadata": {
        "id": "tanvOihoXFJn"
      },
      "execution_count": null,
      "outputs": []
    },
    {
      "cell_type": "code",
      "source": [
        "from keras import models\n",
        "from keras import layers\n",
        "\n",
        "model = models.Sequential()\n",
        "model.add(layers.Dense(16, activation='relu', input_shape=(10000,)))\n",
        "model.add(layers.Dense(16, activation='relu'))\n",
        "model.add(layers.Dense(1, activation='sigmoid'))"
      ],
      "metadata": {
        "id": "yI0ZkorPX20Z"
      },
      "execution_count": null,
      "outputs": []
    },
    {
      "cell_type": "code",
      "source": [
        "model.compile(optimizer = 'rmsprop', \n",
        "              loss = 'binary_crossentropy', # mean_squared_error도 가능. 확률을 출력하는 모델에서는 crossentropy가 최선의 선택\n",
        "              metrics = ['accuracy'])"
      ],
      "metadata": {
        "id": "1o0Ge8HqYnlm"
      },
      "execution_count": null,
      "outputs": []
    },
    {
      "cell_type": "markdown",
      "source": [
        "옵티마이저의 매개변수를 바꾸는 경우"
      ],
      "metadata": {
        "id": "RgD46rFnZK3P"
      }
    },
    {
      "cell_type": "code",
      "source": [
        "from keras import optimizers\n",
        "\n",
        "model.compile(optimizer=optimizers.RMSprop(lr=0.001),\n",
        "              loss='binary_crossentropy',\n",
        "              metrics=['accuracy'])"
      ],
      "metadata": {
        "id": "hLgo0_wuY_2y"
      },
      "execution_count": null,
      "outputs": []
    },
    {
      "cell_type": "markdown",
      "source": [
        "자신만의 손실 함수, 측정 함수를 전달하는 경우"
      ],
      "metadata": {
        "id": "wULgz9ruZTaf"
      }
    },
    {
      "cell_type": "code",
      "source": [
        "from keras import losses\n",
        "from keras import metrics\n",
        "\n",
        "model.compile(optimizer=optimizers.RMSprop(lr=0.001),\n",
        "              loss=losses.binary_crossentropy,\n",
        "              metrics=[metrics.binary_accuracy])"
      ],
      "metadata": {
        "id": "Z_lAFcDzY9Ds"
      },
      "execution_count": null,
      "outputs": []
    },
    {
      "cell_type": "code",
      "source": [
        "model.compile(optimizer='rmsprop',\n",
        "              loss='binary_crossentropy',\n",
        "              metrics=['accuracy'])"
      ],
      "metadata": {
        "id": "ko8R3qW5cDsu"
      },
      "execution_count": null,
      "outputs": []
    },
    {
      "cell_type": "code",
      "source": [
        "x_val = x_train[:10000]\n",
        "partial_x_train = x_train[10000:]\n",
        "\n",
        "y_val = y_train[:10000]\n",
        "partial_y_train = y_train[10000:]"
      ],
      "metadata": {
        "id": "tlxRAeQEZ5NJ"
      },
      "execution_count": null,
      "outputs": []
    },
    {
      "cell_type": "code",
      "source": [
        "history = model.fit(partial_x_train,\n",
        "                    partial_y_train,\n",
        "                    epochs=20,\n",
        "                    batch_size=512,\n",
        "                    validation_data=(x_val, y_val))"
      ],
      "metadata": {
        "colab": {
          "base_uri": "https://localhost:8080/"
        },
        "id": "Sn18cUksaEmQ",
        "outputId": "000fa84d-7ffa-419a-f8f9-bad90c08d458"
      },
      "execution_count": null,
      "outputs": [
        {
          "output_type": "stream",
          "name": "stdout",
          "text": [
            "Epoch 1/20\n",
            "30/30 [==============================] - 3s 70ms/step - loss: 0.5252 - accuracy: 0.7759 - val_loss: 0.3996 - val_accuracy: 0.8681\n",
            "Epoch 2/20\n",
            "30/30 [==============================] - 1s 42ms/step - loss: 0.3208 - accuracy: 0.9008 - val_loss: 0.3156 - val_accuracy: 0.8843\n",
            "Epoch 3/20\n",
            "30/30 [==============================] - 1s 40ms/step - loss: 0.2342 - accuracy: 0.9245 - val_loss: 0.2806 - val_accuracy: 0.8913\n",
            "Epoch 4/20\n",
            "30/30 [==============================] - 1s 47ms/step - loss: 0.1814 - accuracy: 0.9427 - val_loss: 0.2786 - val_accuracy: 0.8892\n",
            "Epoch 5/20\n",
            "30/30 [==============================] - 1s 42ms/step - loss: 0.1485 - accuracy: 0.9531 - val_loss: 0.2789 - val_accuracy: 0.8877\n",
            "Epoch 6/20\n",
            "30/30 [==============================] - 1s 48ms/step - loss: 0.1219 - accuracy: 0.9631 - val_loss: 0.2947 - val_accuracy: 0.8859\n",
            "Epoch 7/20\n",
            "30/30 [==============================] - 2s 57ms/step - loss: 0.0990 - accuracy: 0.9723 - val_loss: 0.3119 - val_accuracy: 0.8851\n",
            "Epoch 8/20\n",
            "30/30 [==============================] - 2s 72ms/step - loss: 0.0835 - accuracy: 0.9767 - val_loss: 0.3478 - val_accuracy: 0.8777\n",
            "Epoch 9/20\n",
            "30/30 [==============================] - 2s 67ms/step - loss: 0.0696 - accuracy: 0.9817 - val_loss: 0.3596 - val_accuracy: 0.8774\n",
            "Epoch 10/20\n",
            "30/30 [==============================] - 3s 104ms/step - loss: 0.0592 - accuracy: 0.9846 - val_loss: 0.3684 - val_accuracy: 0.8788\n",
            "Epoch 11/20\n",
            "30/30 [==============================] - 1s 48ms/step - loss: 0.0482 - accuracy: 0.9881 - val_loss: 0.3950 - val_accuracy: 0.8769\n",
            "Epoch 12/20\n",
            "30/30 [==============================] - 1s 47ms/step - loss: 0.0369 - accuracy: 0.9923 - val_loss: 0.4245 - val_accuracy: 0.8772\n",
            "Epoch 13/20\n",
            "30/30 [==============================] - 1s 48ms/step - loss: 0.0318 - accuracy: 0.9937 - val_loss: 0.4535 - val_accuracy: 0.8721\n",
            "Epoch 14/20\n",
            "30/30 [==============================] - 1s 47ms/step - loss: 0.0232 - accuracy: 0.9961 - val_loss: 0.5420 - val_accuracy: 0.8649\n",
            "Epoch 15/20\n",
            "30/30 [==============================] - 1s 44ms/step - loss: 0.0210 - accuracy: 0.9961 - val_loss: 0.5133 - val_accuracy: 0.8701\n",
            "Epoch 16/20\n",
            "30/30 [==============================] - 1s 44ms/step - loss: 0.0146 - accuracy: 0.9983 - val_loss: 0.5501 - val_accuracy: 0.8686\n",
            "Epoch 17/20\n",
            "30/30 [==============================] - 1s 45ms/step - loss: 0.0138 - accuracy: 0.9979 - val_loss: 0.5875 - val_accuracy: 0.8652\n",
            "Epoch 18/20\n",
            "30/30 [==============================] - 1s 45ms/step - loss: 0.0119 - accuracy: 0.9979 - val_loss: 0.6199 - val_accuracy: 0.8685\n",
            "Epoch 19/20\n",
            "30/30 [==============================] - 1s 44ms/step - loss: 0.0057 - accuracy: 0.9998 - val_loss: 0.6432 - val_accuracy: 0.8644\n",
            "Epoch 20/20\n",
            "30/30 [==============================] - 2s 50ms/step - loss: 0.0084 - accuracy: 0.9987 - val_loss: 0.6775 - val_accuracy: 0.8663\n"
          ]
        }
      ]
    },
    {
      "cell_type": "code",
      "source": [
        "history_dict = history.history\n",
        "history_dict.keys()"
      ],
      "metadata": {
        "colab": {
          "base_uri": "https://localhost:8080/"
        },
        "id": "hoxNt8g-d1hh",
        "outputId": "b8b4633d-0f1e-4dde-d9e5-e71f19dc83c5"
      },
      "execution_count": null,
      "outputs": [
        {
          "output_type": "execute_result",
          "data": {
            "text/plain": [
              "dict_keys(['loss', 'accuracy', 'val_loss', 'val_accuracy'])"
            ]
          },
          "metadata": {},
          "execution_count": 25
        }
      ]
    },
    {
      "cell_type": "code",
      "source": [
        "import matplotlib.pyplot as plt\n",
        "\n",
        "acc = history.history['accuracy']\n",
        "val_acc = history.history['val_accuracy']\n",
        "loss = history.history['loss']\n",
        "val_loss = history.history['val_loss']\n",
        "\n",
        "epochs = range(1, len(acc) + 1)\n",
        "\n",
        "# ‘bo’는 파란색 점을 의미합니다\n",
        "plt.plot(epochs, loss, 'bo', label='Training loss')\n",
        "# ‘b’는 파란색 실선을 의미합니다\n",
        "plt.plot(epochs, val_loss, 'b', label='Validation loss')\n",
        "plt.title('Training and validation loss')\n",
        "plt.xlabel('Epochs')\n",
        "plt.ylabel('Loss')\n",
        "plt.legend()\n",
        "\n",
        "plt.show()"
      ],
      "metadata": {
        "colab": {
          "base_uri": "https://localhost:8080/",
          "height": 295
        },
        "id": "aGpavqzaaiRI",
        "outputId": "63f4fc61-5efd-4794-8bab-19e73ea8d844"
      },
      "execution_count": null,
      "outputs": [
        {
          "output_type": "display_data",
          "data": {
            "text/plain": [
              "<Figure size 432x288 with 1 Axes>"
            ],
            "image/png": "[encoded data removed]"
          },
          "metadata": {
            "needs_background": "light"
          }
        }
      ]
    },
    {
      "cell_type": "code",
      "source": [
        "plt.clf()   # 그래프를 초기화합니다\n",
        "acc = history_dict['accuracy']\n",
        "val_acc = history_dict['val_accuracy']\n",
        "\n",
        "plt.plot(epochs, acc, 'bo', label='Training accuracy')\n",
        "plt.plot(epochs, val_acc, 'b', label='Validation accuracy')\n",
        "plt.title('Training and validation accuracy')\n",
        "plt.xlabel('Epochs')\n",
        "plt.ylabel('Accuracy')\n",
        "plt.legend()\n",
        "\n",
        "plt.show()"
      ],
      "metadata": {
        "colab": {
          "base_uri": "https://localhost:8080/",
          "height": 295
        },
        "id": "RnO0UCpueHsR",
        "outputId": "95c92aed-2355-4053-fe71-2103f8a24764"
      },
      "execution_count": null,
      "outputs": [
        {
          "output_type": "display_data",
          "data": {
            "text/plain": [
              "<Figure size 432x288 with 1 Axes>"
            ],
            "image/png": "[encoded data removed]"
          },
          "metadata": {
            "needs_background": "light"
          }
        }
      ]
    },
    {
      "cell_type": "markdown",
      "source": [
        "과대적합 (Overfitting) \n",
        "-> 방지하기 위해 세 번째 에포크 이후 훈련 중지"
      ],
      "metadata": {
        "id": "Cx19eqiReDKH"
      }
    },
    {
      "cell_type": "code",
      "source": [
        "model = models.Sequential()\n",
        "model.add(layers.Dense(16, activation='relu', input_shape=(10000,)))\n",
        "model.add(layers.Dense(16, activation='relu'))\n",
        "model.add(layers.Dense(1, activation='sigmoid'))\n",
        "\n",
        "model.compile(optimizer='rmsprop',\n",
        "              loss='binary_crossentropy',\n",
        "              metrics=['accuracy'])\n",
        "\n",
        "model.fit(x_train, y_train, epochs=4, batch_size=512)\n",
        "results = model.evaluate(x_test, y_test)"
      ],
      "metadata": {
        "colab": {
          "base_uri": "https://localhost:8080/"
        },
        "id": "2o8xs97Feaw5",
        "outputId": "6e884acb-86e4-412a-e166-b04c75cb3235"
      },
      "execution_count": null,
      "outputs": [
        {
          "output_type": "stream",
          "name": "stdout",
          "text": [
            "Epoch 1/4\n",
            "49/49 [==============================] - 5s 59ms/step - loss: 0.4821 - accuracy: 0.8093\n",
            "Epoch 2/4\n",
            "49/49 [==============================] - 2s 34ms/step - loss: 0.2738 - accuracy: 0.9088\n",
            "Epoch 3/4\n",
            "49/49 [==============================] - 2s 50ms/step - loss: 0.2088 - accuracy: 0.9273\n",
            "Epoch 4/4\n",
            "49/49 [==============================] - 2s 39ms/step - loss: 0.1735 - accuracy: 0.9402\n",
            "782/782 [==============================] - 3s 3ms/step - loss: 0.2899 - accuracy: 0.8860\n"
          ]
        }
      ]
    },
    {
      "cell_type": "code",
      "source": [
        "results"
      ],
      "metadata": {
        "colab": {
          "base_uri": "https://localhost:8080/"
        },
        "id": "31IJZcrredNP",
        "outputId": "a41aab9f-5c71-4eaa-a91c-badf2ba16b18"
      },
      "execution_count": null,
      "outputs": [
        {
          "output_type": "execute_result",
          "data": {
            "text/plain": [
              "[0.2899336516857147, 0.8859999775886536]"
            ]
          },
          "metadata": {},
          "execution_count": 30
        }
      ]
    },
    {
      "cell_type": "code",
      "source": [
        "model.predict(x_test)"
      ],
      "metadata": {
        "colab": {
          "base_uri": "https://localhost:8080/"
        },
        "id": "obmg5kJPehD8",
        "outputId": "00cf53a8-bce8-40bb-df39-85368bebd515"
      },
      "execution_count": null,
      "outputs": [
        {
          "output_type": "stream",
          "name": "stdout",
          "text": [
            "782/782 [==============================] - 2s 2ms/step\n"
          ]
        },
        {
          "output_type": "execute_result",
          "data": {
            "text/plain": [
              "array([[0.17693314],\n",
              "       [0.9999754 ],\n",
              "       [0.7800426 ],\n",
              "       ...,\n",
              "       [0.1000893 ],\n",
              "       [0.07541396],\n",
              "       [0.5775172 ]], dtype=float32)"
            ]
          },
          "metadata": {},
          "execution_count": 31
        }
      ]
    },
    {
      "cell_type": "markdown",
      "source": [],
      "metadata": {
        "id": "ji30_R5i2J3X"
      }
    },
    {
      "cell_type": "markdown",
      "source": [
        "# 3.5 뉴스 기사 분류 : 다중 분류 문제\n",
        "\n",
        "\n"
      ],
      "metadata": {
        "id": "mOYZHq0t2M1O"
      }
    },
    {
      "cell_type": "code",
      "source": [
        "from keras.datasets import reuters\n",
        "\n",
        "(train_data, train_labels), (test_data, test_labels) = reuters.load_data(num_words = 10000)"
      ],
      "metadata": {
        "colab": {
          "base_uri": "https://localhost:8080/"
        },
        "id": "D59aR48R2Qz_",
        "outputId": "508caa54-a94b-4c76-8c84-9aac0307b14b"
      },
      "execution_count": null,
      "outputs": [
        {
          "output_type": "stream",
          "name": "stdout",
          "text": [
            "Downloading data from https://storage.googleapis.com/tensorflow/tf-keras-datasets/reuters.npz\n",
            "2110848/2110848 [==============================] - 0s 0us/step\n"
          ]
        }
      ]
    },
    {
      "cell_type": "markdown",
      "source": [
        "코드 3-13 로이터 데이터셋을 텍스트로 디코딩"
      ],
      "metadata": {
        "id": "WzJP5dSA3GM0"
      }
    },
    {
      "cell_type": "code",
      "source": [
        "word_index = reuters.get_word_index()\n",
        "\n",
        "reverse_word_index = dict([(value, key) for (key, value) in word_index.items()])\n",
        "decoded_newswire = ' '.join([reverse_word_index.get(i - 3, '?') for i in train_data[0]])"
      ],
      "metadata": {
        "colab": {
          "base_uri": "https://localhost:8080/"
        },
        "id": "Fw6CZCxl2gSC",
        "outputId": "4aab5a51-a3ad-42ea-8afe-cb322402cce8"
      },
      "execution_count": null,
      "outputs": [
        {
          "output_type": "stream",
          "name": "stdout",
          "text": [
            "Downloading data from https://storage.googleapis.com/tensorflow/tf-keras-datasets/reuters_word_index.json\n",
            "550378/550378 [==============================] - 0s 1us/step\n"
          ]
        }
      ]
    },
    {
      "cell_type": "code",
      "source": [
        "decoded_newswire"
      ],
      "metadata": {
        "colab": {
          "base_uri": "https://localhost:8080/",
          "height": 54
        },
        "id": "mpv2Ct0U2eLx",
        "outputId": "f37e4ded-206d-44a8-90ad-2d009ad8c169"
      },
      "execution_count": null,
      "outputs": [
        {
          "output_type": "execute_result",
          "data": {
            "text/plain": [
              "'? ? ? said as a result of its december acquisition of space co it expects earnings per share in 1987 of 1 15 to 1 30 dlrs per share up from 70 cts in 1986 the company said pretax net should rise to nine to 10 mln dlrs from six mln dlrs in 1986 and rental operation revenues to 19 to 22 mln dlrs from 12 5 mln dlrs it said cash flow per share this year should be 2 50 to three dlrs reuter 3'"
            ],
            "application/vnd.google.colaboratory.intrinsic+json": {
              "type": "string"
            }
          },
          "metadata": {},
          "execution_count": 4
        }
      ]
    },
    {
      "cell_type": "code",
      "source": [
        "import numpy as np\n",
        "\n",
        "def vectorize_sequences(sequences, dimension=10000):\n",
        "    # 크기가 (len(sequences), dimension))이고 모든 원소가 0인 행렬을 만듭니다\n",
        "    results = np.zeros((len(sequences), dimension))\n",
        "    for i, sequence in enumerate(sequences):\n",
        "        results[i, sequence] = 1.  # results[i]에서 특정 인덱스의 위치를 1로 만듭니다\n",
        "    return results\n",
        "\n",
        "# 훈련 데이터를 벡터로 변환합니다\n",
        "x_train = vectorize_sequences(train_data)\n",
        "# 테스트 데이터를 벡터로 변환합니다\n",
        "x_test = vectorize_sequences(test_data)"
      ],
      "metadata": {
        "id": "xiQGsiS13F2Q"
      },
      "execution_count": null,
      "outputs": []
    },
    {
      "cell_type": "code",
      "source": [
        "from keras.utils.np_utils import to_categorical\n",
        "\n",
        "one_hot_train_labels = to_categorical(train_labels)\n",
        "one_hot_test_labels = to_categorical(test_labels)"
      ],
      "metadata": {
        "id": "1rVkvUdg3RKi"
      },
      "execution_count": null,
      "outputs": []
    },
    {
      "cell_type": "code",
      "source": [
        "from keras import models\n",
        "from keras import layers\n",
        "\n",
        "model = models.Sequential()\n",
        "model.add(layers.Dense(64, activation='relu', input_shape=(10000,)))\n",
        "model.add(layers.Dense(64, activation='relu'))\n",
        "model.add(layers.Dense(46, activation='softmax'))"
      ],
      "metadata": {
        "id": "0Erma16G5EcN"
      },
      "execution_count": null,
      "outputs": []
    },
    {
      "cell_type": "markdown",
      "source": [
        "마지막 Dense 층의 크기가 46 ->  각 입력 샘플에 대해서 46차원의 벡터를 출력\n"
      ],
      "metadata": {
        "id": "Tfu-awbz5OSf"
      }
    },
    {
      "cell_type": "code",
      "source": [
        "model.compile(optimizer='rmsprop',\n",
        "              loss='categorical_crossentropy',\n",
        "              metrics=['accuracy'])"
      ],
      "metadata": {
        "id": "-Mb-Wa1w5msN"
      },
      "execution_count": null,
      "outputs": []
    },
    {
      "cell_type": "code",
      "source": [
        "x_val = x_train[:1000]\n",
        "partial_x_train = x_train[1000:]\n",
        "\n",
        "y_val = one_hot_train_labels[:1000]\n",
        "partial_y_train = one_hot_train_labels[1000:]"
      ],
      "metadata": {
        "id": "rBIgn2tz5KSs"
      },
      "execution_count": null,
      "outputs": []
    },
    {
      "cell_type": "code",
      "source": [
        "history = model.fit(partial_x_train,\n",
        "                    partial_y_train,\n",
        "                    epochs=20,\n",
        "                    batch_size=512,\n",
        "                    validation_data=(x_val, y_val))"
      ],
      "metadata": {
        "colab": {
          "base_uri": "https://localhost:8080/"
        },
        "id": "CgQTc5t45lYI",
        "outputId": "996d5ede-db5a-4213-a30e-f2e499c3aa72"
      },
      "execution_count": null,
      "outputs": [
        {
          "output_type": "stream",
          "name": "stdout",
          "text": [
            "Epoch 1/20\n",
            "16/16 [==============================] - 1s 48ms/step - loss: 2.7918 - accuracy: 0.4759 - val_loss: 1.8245 - val_accuracy: 0.6190\n",
            "Epoch 2/20\n",
            "16/16 [==============================] - 1s 36ms/step - loss: 1.4615 - accuracy: 0.6984 - val_loss: 1.3037 - val_accuracy: 0.7170\n",
            "Epoch 3/20\n",
            "16/16 [==============================] - 1s 36ms/step - loss: 1.0694 - accuracy: 0.7742 - val_loss: 1.1218 - val_accuracy: 0.7680\n",
            "Epoch 4/20\n",
            "16/16 [==============================] - 1s 35ms/step - loss: 0.8413 - accuracy: 0.8249 - val_loss: 1.0264 - val_accuracy: 0.7870\n",
            "Epoch 5/20\n",
            "16/16 [==============================] - 1s 35ms/step - loss: 0.6725 - accuracy: 0.8583 - val_loss: 0.9611 - val_accuracy: 0.8040\n",
            "Epoch 6/20\n",
            "16/16 [==============================] - 1s 48ms/step - loss: 0.5369 - accuracy: 0.8916 - val_loss: 0.9244 - val_accuracy: 0.8160\n",
            "Epoch 7/20\n",
            "16/16 [==============================] - 1s 44ms/step - loss: 0.4348 - accuracy: 0.9107 - val_loss: 0.9234 - val_accuracy: 0.8060\n",
            "Epoch 8/20\n",
            "16/16 [==============================] - 1s 34ms/step - loss: 0.3514 - accuracy: 0.9275 - val_loss: 0.8965 - val_accuracy: 0.8130\n",
            "Epoch 9/20\n",
            "16/16 [==============================] - 1s 35ms/step - loss: 0.2914 - accuracy: 0.9381 - val_loss: 0.9003 - val_accuracy: 0.8130\n",
            "Epoch 10/20\n",
            "16/16 [==============================] - 1s 36ms/step - loss: 0.2436 - accuracy: 0.9451 - val_loss: 0.8954 - val_accuracy: 0.8200\n",
            "Epoch 11/20\n",
            "16/16 [==============================] - 1s 34ms/step - loss: 0.2119 - accuracy: 0.9476 - val_loss: 0.9377 - val_accuracy: 0.8090\n",
            "Epoch 12/20\n",
            "16/16 [==============================] - 1s 36ms/step - loss: 0.1857 - accuracy: 0.9510 - val_loss: 0.9305 - val_accuracy: 0.8140\n",
            "Epoch 13/20\n",
            "16/16 [==============================] - 1s 36ms/step - loss: 0.1670 - accuracy: 0.9533 - val_loss: 1.0231 - val_accuracy: 0.8000\n",
            "Epoch 14/20\n",
            "16/16 [==============================] - 1s 35ms/step - loss: 0.1547 - accuracy: 0.9536 - val_loss: 0.9729 - val_accuracy: 0.8120\n",
            "Epoch 15/20\n",
            "16/16 [==============================] - 1s 55ms/step - loss: 0.1389 - accuracy: 0.9564 - val_loss: 0.9724 - val_accuracy: 0.8150\n",
            "Epoch 16/20\n",
            "16/16 [==============================] - 1s 62ms/step - loss: 0.1335 - accuracy: 0.9560 - val_loss: 1.0188 - val_accuracy: 0.8020\n",
            "Epoch 17/20\n",
            "16/16 [==============================] - 1s 44ms/step - loss: 0.1242 - accuracy: 0.9562 - val_loss: 1.1210 - val_accuracy: 0.7850\n",
            "Epoch 18/20\n",
            "16/16 [==============================] - 1s 36ms/step - loss: 0.1215 - accuracy: 0.9543 - val_loss: 1.0351 - val_accuracy: 0.8120\n",
            "Epoch 19/20\n",
            "16/16 [==============================] - 1s 36ms/step - loss: 0.1151 - accuracy: 0.9577 - val_loss: 1.1809 - val_accuracy: 0.7890\n",
            "Epoch 20/20\n",
            "16/16 [==============================] - 1s 35ms/step - loss: 0.1159 - accuracy: 0.9568 - val_loss: 1.1205 - val_accuracy: 0.7940\n"
          ]
        }
      ]
    },
    {
      "cell_type": "code",
      "source": [
        "import matplotlib.pyplot as plt"
      ],
      "metadata": {
        "id": "JT2CLp_F5wjL"
      },
      "execution_count": null,
      "outputs": []
    },
    {
      "cell_type": "code",
      "source": [
        "loss = history.history['loss']\n",
        "val_loss = history.history['val_loss']\n",
        "\n",
        "epochs = range(1, len(loss) + 1)\n",
        "\n",
        "plt.plot(epochs, loss, 'bo', label='Training loss')\n",
        "plt.plot(epochs, val_loss, 'b', label='Validation loss')\n",
        "plt.title('Training and validation loss')\n",
        "plt.xlabel('Epochs')\n",
        "plt.ylabel('Loss')\n",
        "plt.legend()\n",
        "\n",
        "plt.show()"
      ],
      "metadata": {
        "colab": {
          "base_uri": "https://localhost:8080/",
          "height": 295
        },
        "id": "-kr_s49S56mG",
        "outputId": "622f72eb-008b-4585-afd1-487afff63928"
      },
      "execution_count": null,
      "outputs": [
        {
          "output_type": "display_data",
          "data": {
            "text/plain": [
              "<Figure size 432x288 with 1 Axes>"
            ],
            "image/png": "[encoded data removed]"
          },
          "metadata": {
            "needs_background": "light"
          }
        }
      ]
    },
    {
      "cell_type": "code",
      "source": [
        "plt.clf()   # 그래프를 초기화합니다\n",
        "\n",
        "acc = history.history['accuracy']\n",
        "val_acc = history.history['val_accuracy']\n",
        "\n",
        "plt.plot(epochs, acc, 'bo', label='Training accuracy')\n",
        "plt.plot(epochs, val_acc, 'b', label='Validation accuracy')\n",
        "plt.title('Training and validation accuracy')\n",
        "plt.xlabel('Epochs')\n",
        "plt.ylabel('Accuracy')\n",
        "plt.legend()\n",
        "\n",
        "plt.show()"
      ],
      "metadata": {
        "colab": {
          "base_uri": "https://localhost:8080/",
          "height": 295
        },
        "id": "GJzKDNAu577A",
        "outputId": "4332e050-aff7-461b-e0e0-fd69841adfdf"
      },
      "execution_count": null,
      "outputs": [
        {
          "output_type": "display_data",
          "data": {
            "text/plain": [
              "<Figure size 432x288 with 1 Axes>"
            ],
            "image/png": "[encoded data removed]"
          },
          "metadata": {
            "needs_background": "light"
          }
        }
      ]
    },
    {
      "cell_type": "markdown",
      "source": [
        "9번째 epoch 이후 overfitting 시작"
      ],
      "metadata": {
        "id": "ghA6i5lE68NB"
      }
    },
    {
      "cell_type": "code",
      "source": [
        "model = models.Sequential()\n",
        "model.add(layers.Dense(64, activation='relu', input_shape=(10000,)))\n",
        "model.add(layers.Dense(64, activation='relu'))\n",
        "model.add(layers.Dense(46, activation='softmax'))\n",
        "\n",
        "model.compile(optimizer='rmsprop',\n",
        "              loss='categorical_crossentropy',\n",
        "              metrics=['accuracy'])\n",
        "\n",
        "model.fit(partial_x_train,\n",
        "          partial_y_train,\n",
        "          epochs=9,\n",
        "          batch_size=512,\n",
        "          validation_data=(x_val, y_val))\n",
        "results = model.evaluate(x_test, one_hot_test_labels)"
      ],
      "metadata": {
        "colab": {
          "base_uri": "https://localhost:8080/"
        },
        "id": "GgzwrdDC59so",
        "outputId": "3a6973b2-13a2-4505-eaaa-583a668353a0"
      },
      "execution_count": null,
      "outputs": [
        {
          "output_type": "stream",
          "name": "stdout",
          "text": [
            "Epoch 1/9\n",
            "16/16 [==============================] - 1s 44ms/step - loss: 2.6766 - accuracy: 0.5316 - val_loss: 1.8101 - val_accuracy: 0.6400\n",
            "Epoch 2/9\n",
            "16/16 [==============================] - 1s 36ms/step - loss: 1.4492 - accuracy: 0.7016 - val_loss: 1.3331 - val_accuracy: 0.6950\n",
            "Epoch 3/9\n",
            "16/16 [==============================] - 1s 35ms/step - loss: 1.0580 - accuracy: 0.7767 - val_loss: 1.1411 - val_accuracy: 0.7650\n",
            "Epoch 4/9\n",
            "16/16 [==============================] - 1s 35ms/step - loss: 0.8243 - accuracy: 0.8311 - val_loss: 1.0431 - val_accuracy: 0.7920\n",
            "Epoch 5/9\n",
            "16/16 [==============================] - 1s 36ms/step - loss: 0.6524 - accuracy: 0.8661 - val_loss: 0.9532 - val_accuracy: 0.8050\n",
            "Epoch 6/9\n",
            "16/16 [==============================] - 1s 36ms/step - loss: 0.5161 - accuracy: 0.8919 - val_loss: 0.9167 - val_accuracy: 0.8170\n",
            "Epoch 7/9\n",
            "16/16 [==============================] - 1s 35ms/step - loss: 0.4145 - accuracy: 0.9141 - val_loss: 0.8770 - val_accuracy: 0.8190\n",
            "Epoch 8/9\n",
            "16/16 [==============================] - 1s 36ms/step - loss: 0.3364 - accuracy: 0.9287 - val_loss: 0.8834 - val_accuracy: 0.8230\n",
            "Epoch 9/9\n",
            "16/16 [==============================] - 1s 36ms/step - loss: 0.2803 - accuracy: 0.9402 - val_loss: 0.9018 - val_accuracy: 0.8160\n",
            "71/71 [==============================] - 0s 3ms/step - loss: 0.9861 - accuracy: 0.7907\n"
          ]
        }
      ]
    },
    {
      "cell_type": "code",
      "source": [
        "results"
      ],
      "metadata": {
        "colab": {
          "base_uri": "https://localhost:8080/"
        },
        "id": "hnX2YRhK7DzM",
        "outputId": "ace2462b-56e1-47e9-d0b2-ca637bf3759a"
      },
      "execution_count": null,
      "outputs": [
        {
          "output_type": "execute_result",
          "data": {
            "text/plain": [
              "[0.9860614538192749, 0.790739119052887]"
            ]
          },
          "metadata": {},
          "execution_count": 18
        }
      ]
    },
    {
      "cell_type": "code",
      "source": [
        "import copy\n",
        "\n",
        "test_labels_copy = copy.copy(test_labels)\n",
        "np.random.shuffle(test_labels_copy)\n",
        "float(np.sum(np.array(test_labels) == np.array(test_labels_copy))) / len(test_labels)"
      ],
      "metadata": {
        "colab": {
          "base_uri": "https://localhost:8080/"
        },
        "id": "9OIrxSib7bAw",
        "outputId": "f4f20e1d-0443-4679-f22a-43bad9ffb06c"
      },
      "execution_count": null,
      "outputs": [
        {
          "output_type": "execute_result",
          "data": {
            "text/plain": [
              "0.18210151380231523"
            ]
          },
          "metadata": {},
          "execution_count": 19
        }
      ]
    },
    {
      "cell_type": "markdown",
      "source": [
        "새로운 데이터 예측"
      ],
      "metadata": {
        "id": "Q4zcK7rt7cLs"
      }
    },
    {
      "cell_type": "code",
      "source": [
        "predictions = model.predict(x_test)"
      ],
      "metadata": {
        "colab": {
          "base_uri": "https://localhost:8080/"
        },
        "id": "G2Irgno77eWg",
        "outputId": "b4bbcc72-e7e0-4442-9aa5-b9dd7b9d66f4"
      },
      "execution_count": null,
      "outputs": [
        {
          "output_type": "stream",
          "name": "stdout",
          "text": [
            "71/71 [==============================] - 1s 5ms/step\n"
          ]
        }
      ]
    },
    {
      "cell_type": "code",
      "source": [
        "predictions[0].shape"
      ],
      "metadata": {
        "colab": {
          "base_uri": "https://localhost:8080/"
        },
        "id": "zMPYlDQc7fpM",
        "outputId": "086e9c69-237b-4a19-b7ac-14ab1d8d6953"
      },
      "execution_count": null,
      "outputs": [
        {
          "output_type": "execute_result",
          "data": {
            "text/plain": [
              "(46,)"
            ]
          },
          "metadata": {},
          "execution_count": 23
        }
      ]
    },
    {
      "cell_type": "code",
      "source": [
        "np.sum(predictions[0])"
      ],
      "metadata": {
        "colab": {
          "base_uri": "https://localhost:8080/"
        },
        "id": "VaZbZISP7lpg",
        "outputId": "91287cc0-f7eb-4259-bc43-f8103c9913d5"
      },
      "execution_count": null,
      "outputs": [
        {
          "output_type": "execute_result",
          "data": {
            "text/plain": [
              "0.99999994"
            ]
          },
          "metadata": {},
          "execution_count": 24
        }
      ]
    },
    {
      "cell_type": "code",
      "source": [
        "np.argmax(predictions[0])"
      ],
      "metadata": {
        "colab": {
          "base_uri": "https://localhost:8080/"
        },
        "id": "eK8Ho0fL7tZH",
        "outputId": "2b83ab92-a170-4900-8f0c-fd2d6149c831"
      },
      "execution_count": null,
      "outputs": [
        {
          "output_type": "execute_result",
          "data": {
            "text/plain": [
              "3"
            ]
          },
          "metadata": {},
          "execution_count": 25
        }
      ]
    },
    {
      "cell_type": "markdown",
      "source": [
        "가장 큰 값으로 클래스 예측 -> 3으로 분류"
      ],
      "metadata": {
        "id": "5zTNn0hz7uba"
      }
    },
    {
      "cell_type": "code",
      "source": [
        "model = models.Sequential()\n",
        "model.add(layers.Dense(64, activation='relu', input_shape=(10000,)))\n",
        "model.add(layers.Dense(4, activation='relu'))\n",
        "model.add(layers.Dense(46, activation='softmax'))\n",
        "\n",
        "model.compile(optimizer='rmsprop',\n",
        "              loss='categorical_crossentropy',\n",
        "              metrics=['accuracy'])\n",
        "model.fit(partial_x_train,\n",
        "          partial_y_train,\n",
        "          epochs=20,\n",
        "          batch_size=128,\n",
        "          validation_data=(x_val, y_val))"
      ],
      "metadata": {
        "colab": {
          "base_uri": "https://localhost:8080/"
        },
        "id": "9bbfsmYP70WA",
        "outputId": "95d0f32a-1539-422b-9cb2-dac81c8cd25e"
      },
      "execution_count": null,
      "outputs": [
        {
          "output_type": "stream",
          "name": "stdout",
          "text": [
            "Epoch 1/20\n",
            "63/63 [==============================] - 2s 16ms/step - loss: 3.4426 - accuracy: 0.0329 - val_loss: 2.9322 - val_accuracy: 0.0790\n",
            "Epoch 2/20\n",
            "63/63 [==============================] - 1s 14ms/step - loss: 2.3670 - accuracy: 0.4070 - val_loss: 1.9238 - val_accuracy: 0.6130\n",
            "Epoch 3/20\n",
            "63/63 [==============================] - 1s 15ms/step - loss: 1.5465 - accuracy: 0.6505 - val_loss: 1.4674 - val_accuracy: 0.6820\n",
            "Epoch 4/20\n",
            "63/63 [==============================] - 1s 14ms/step - loss: 1.2561 - accuracy: 0.7142 - val_loss: 1.3809 - val_accuracy: 0.6890\n",
            "Epoch 5/20\n",
            "63/63 [==============================] - 1s 14ms/step - loss: 1.1466 - accuracy: 0.7250 - val_loss: 1.3699 - val_accuracy: 0.6850\n",
            "Epoch 6/20\n",
            "63/63 [==============================] - 1s 14ms/step - loss: 1.0729 - accuracy: 0.7340 - val_loss: 1.3746 - val_accuracy: 0.6860\n",
            "Epoch 7/20\n",
            "63/63 [==============================] - 1s 14ms/step - loss: 1.0158 - accuracy: 0.7433 - val_loss: 1.3578 - val_accuracy: 0.6870\n",
            "Epoch 8/20\n",
            "63/63 [==============================] - 1s 16ms/step - loss: 0.9657 - accuracy: 0.7499 - val_loss: 1.3714 - val_accuracy: 0.6880\n",
            "Epoch 9/20\n",
            "63/63 [==============================] - 2s 27ms/step - loss: 0.9261 - accuracy: 0.7547 - val_loss: 1.4112 - val_accuracy: 0.6890\n",
            "Epoch 10/20\n",
            "63/63 [==============================] - 1s 23ms/step - loss: 0.8876 - accuracy: 0.7591 - val_loss: 1.4400 - val_accuracy: 0.6800\n",
            "Epoch 11/20\n",
            "63/63 [==============================] - 2s 28ms/step - loss: 0.8567 - accuracy: 0.7592 - val_loss: 1.4601 - val_accuracy: 0.6810\n",
            "Epoch 12/20\n",
            "63/63 [==============================] - 2s 29ms/step - loss: 0.8274 - accuracy: 0.7613 - val_loss: 1.4945 - val_accuracy: 0.6770\n",
            "Epoch 13/20\n",
            "63/63 [==============================] - 1s 19ms/step - loss: 0.8059 - accuracy: 0.7623 - val_loss: 1.5129 - val_accuracy: 0.6740\n",
            "Epoch 14/20\n",
            "63/63 [==============================] - 1s 19ms/step - loss: 0.7820 - accuracy: 0.7637 - val_loss: 1.5846 - val_accuracy: 0.6730\n",
            "Epoch 15/20\n",
            "63/63 [==============================] - 1s 17ms/step - loss: 0.7622 - accuracy: 0.7640 - val_loss: 1.5994 - val_accuracy: 0.6720\n",
            "Epoch 16/20\n",
            "63/63 [==============================] - 1s 17ms/step - loss: 0.7421 - accuracy: 0.7686 - val_loss: 1.6601 - val_accuracy: 0.6680\n",
            "Epoch 17/20\n",
            "63/63 [==============================] - 1s 22ms/step - loss: 0.7268 - accuracy: 0.7710 - val_loss: 1.7618 - val_accuracy: 0.6690\n",
            "Epoch 18/20\n",
            "63/63 [==============================] - 1s 17ms/step - loss: 0.7122 - accuracy: 0.7762 - val_loss: 1.7675 - val_accuracy: 0.6690\n",
            "Epoch 19/20\n",
            "63/63 [==============================] - 1s 21ms/step - loss: 0.6975 - accuracy: 0.7798 - val_loss: 1.7656 - val_accuracy: 0.6630\n",
            "Epoch 20/20\n",
            "63/63 [==============================] - 1s 22ms/step - loss: 0.6827 - accuracy: 0.7915 - val_loss: 1.8776 - val_accuracy: 0.6690\n"
          ]
        },
        {
          "output_type": "execute_result",
          "data": {
            "text/plain": [
              "<keras.callbacks.History at 0x7f320a31f790>"
            ]
          },
          "metadata": {},
          "execution_count": 26
        }
      ]
    },
    {
      "cell_type": "markdown",
      "source": [
        "마지막 출력이 46이기 때문에 중간층의 히든 유닛이 46보다 적으면 안된다. \n",
        "\n",
        "더 작은 중간층을 두면 많은 정보를 중간층의 저차원 표현 공간으로 압축하려고 했기 떄문에 정보의 손실 발생\n"
      ],
      "metadata": {
        "id": "c9zZXlNz8W12"
      }
    },
    {
      "cell_type": "markdown",
      "source": [
        "# 3.6 주택 가격 예측 : 회귀 문제"
      ],
      "metadata": {
        "id": "d1lLBUKZ88qk"
      }
    },
    {
      "cell_type": "code",
      "source": [],
      "metadata": {
        "id": "MtcoOgC39MeD"
      },
      "execution_count": null,
      "outputs": []
    }
  ]
}